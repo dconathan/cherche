{
 "cells": [
  {
   "cell_type": "markdown",
   "metadata": {},
   "source": [
    "# Voting operator for retrievers and rankers"
   ]
  },
  {
   "cell_type": "markdown",
   "metadata": {},
   "source": [
    "Let's build a pipeline using voting `*` and union `|` operators."
   ]
  },
  {
   "cell_type": "code",
   "execution_count": 1,
   "metadata": {},
   "outputs": [],
   "source": [
    "from cherche import data, rank, retrieve\n",
    "from sentence_transformers import SentenceTransformer"
   ]
  },
  {
   "cell_type": "markdown",
   "metadata": {},
   "source": [
    "The first step is to define the corpus on which we will perform the neural search. The towns dataset contains about a hundred documents, all of which have four attributes, an `id`, the `title` of the article, the `url` and the content of the `article`."
   ]
  },
  {
   "cell_type": "code",
   "execution_count": 2,
   "metadata": {},
   "outputs": [
    {
     "data": {
      "text/plain": [
       "[{'id': 0,\n",
       "  'title': 'Paris',\n",
       "  'url': 'https://en.wikipedia.org/wiki/Paris',\n",
       "  'article': 'Paris (French pronunciation: \\u200b[paʁi] (listen)) is the capital and most populous city of France, with an estimated population of 2,175,601 residents as of 2018, in an area of more than 105 square kilometres (41 square miles).'},\n",
       " {'id': 1,\n",
       "  'title': 'Paris',\n",
       "  'url': 'https://en.wikipedia.org/wiki/Paris',\n",
       "  'article': \"Since the 17th century, Paris has been one of Europe's major centres of finance, diplomacy, commerce, fashion, gastronomy, science, and arts.\"},\n",
       " {'id': 2,\n",
       "  'title': 'Paris',\n",
       "  'url': 'https://en.wikipedia.org/wiki/Paris',\n",
       "  'article': 'The City of Paris is the centre and seat of government of the region and province of Île-de-France, or Paris Region, which has an estimated population of 12,174,880, or about 18 percent of the population of France as of 2017.'},\n",
       " {'id': 3,\n",
       "  'title': 'Paris',\n",
       "  'url': 'https://en.wikipedia.org/wiki/Paris',\n",
       "  'article': 'The Paris Region had a GDP of €709 billion ($808 billion) in 2017.'}]"
      ]
     },
     "execution_count": 2,
     "metadata": {},
     "output_type": "execute_result"
    }
   ],
   "source": [
    "documents = data.load_towns()\n",
    "documents[:4]"
   ]
  },
  {
   "cell_type": "markdown",
   "metadata": {},
   "source": [
    "We start by creating a retriever whose mission will be to quickly filter the documents. This retriever will match the query with the documents using the title and content of the article with `on` parameter."
   ]
  },
  {
   "cell_type": "code",
   "execution_count": 3,
   "metadata": {},
   "outputs": [],
   "source": [
    "retriever = retrieve.TfIdf(\n",
    "    key=\"id\", on=[\"title\", \"article\"], documents=documents, k=100\n",
    ")"
   ]
  },
  {
   "cell_type": "markdown",
   "metadata": {},
   "source": [
    "## Voting"
   ]
  },
  {
   "cell_type": "markdown",
   "metadata": {},
   "source": [
    "We will use two pre-trained models as rankers composed of the voting operator."
   ]
  },
  {
   "cell_type": "code",
   "execution_count": 4,
   "metadata": {},
   "outputs": [],
   "source": [
    "ranker = rank.Encoder(\n",
    "    key=\"id\",\n",
    "    on=[\"title\", \"article\"],\n",
    "    encoder=SentenceTransformer(\"sentence-transformers/all-mpnet-base-v2\").encode,\n",
    "    k=30,\n",
    ") * rank.Encoder(\n",
    "    key=\"id\",\n",
    "    on=[\"title\", \"article\"],\n",
    "    encoder=SentenceTransformer(\n",
    "        \"sentence-transformers/multi-qa-mpnet-base-cos-v1\"\n",
    "    ).encode,\n",
    "    k=30,\n",
    ")"
   ]
  },
  {
   "cell_type": "code",
   "execution_count": 5,
   "metadata": {},
   "outputs": [
    {
     "name": "stderr",
     "output_type": "stream",
     "text": [
      "Encoder ranker: 100%|████████| 2/2 [00:02<00:00,  1.29s/it]\n",
      "Encoder ranker: 100%|████████| 2/2 [00:02<00:00,  1.26s/it]\n"
     ]
    },
    {
     "data": {
      "text/plain": [
       "TfIdf retriever\n",
       "\tkey      : id\n",
       "\ton       : title, article\n",
       "\tdocuments: 105\n",
       "Vote\n",
       "-----\n",
       "Encoder ranker\n",
       "\tkey       : id\n",
       "\ton        : title, article\n",
       "\tnormalize : True\n",
       "\tembeddings: 105\n",
       "Encoder ranker\n",
       "\tkey       : id\n",
       "\ton        : title, article\n",
       "\tnormalize : True\n",
       "\tembeddings: 105\n",
       "-----"
      ]
     },
     "execution_count": 5,
     "metadata": {},
     "output_type": "execute_result"
    }
   ],
   "source": [
    "search = retriever + ranker\n",
    "search.add(documents)"
   ]
  },
  {
   "cell_type": "markdown",
   "metadata": {},
   "source": [
    "The output similarity score of the pipeline is composed of the average of the similarity scores of the models. The scores have been normalized for each model."
   ]
  },
  {
   "cell_type": "code",
   "execution_count": 6,
   "metadata": {},
   "outputs": [
    {
     "data": {
      "text/plain": [
       "[{'id': 20, 'similarity': 2.064516129032258},\n",
       " {'id': 24, 'similarity': 1.0625},\n",
       " {'id': 16, 'similarity': 0.7254901960784313},\n",
       " {'id': 21, 'similarity': 0.5606060606060606},\n",
       " {'id': 56, 'similarity': 0.4540540540540541},\n",
       " {'id': 22, 'similarity': 0.3904761904761905},\n",
       " {'id': 1, 'similarity': 0.33699633699633696},\n",
       " {'id': 0, 'similarity': 0.3055555555555556},\n",
       " {'id': 41, 'similarity': 0.27485380116959063},\n",
       " {'id': 2, 'similarity': 0.24761904761904763},\n",
       " {'id': 25, 'similarity': 0.2202797202797203},\n",
       " {'id': 6, 'similarity': 0.21666666666666667},\n",
       " {'id': 3, 'similarity': 0.19732441471571907},\n",
       " {'id': 23, 'similarity': 0.18285714285714286},\n",
       " {'id': 35, 'similarity': 0.17588652482269504},\n",
       " {'id': 14, 'similarity': 0.15555555555555556},\n",
       " {'id': 33, 'similarity': 0.1507177033492823},\n",
       " {'id': 8, 'similarity': 0.13968957871396898},\n",
       " {'id': 7, 'similarity': 0.1369047619047619},\n",
       " {'id': 42, 'similarity': 0.1246923707957342},\n",
       " {'id': 32, 'similarity': 0.12414965986394558},\n",
       " {'id': 17, 'similarity': 0.11201079622132254},\n",
       " {'id': 54, 'similarity': 0.10846560846560846},\n",
       " {'id': 9, 'similarity': 0.10532915360501567},\n",
       " {'id': 27, 'similarity': 0.10238095238095238},\n",
       " {'id': 55, 'similarity': 0.0625},\n",
       " {'id': 57, 'similarity': 0.058823529411764705},\n",
       " {'id': 51, 'similarity': 0.05},\n",
       " {'id': 46, 'similarity': 0.04},\n",
       " {'id': 45, 'similarity': 0.037037037037037035},\n",
       " {'id': 19, 'similarity': 0.023255813953488372},\n",
       " {'id': 13, 'similarity': 0.0196078431372549},\n",
       " {'id': 18, 'similarity': 0.017241379310344827},\n",
       " {'id': 39, 'similarity': 0.01694915254237288},\n",
       " {'id': 37, 'similarity': 0.016666666666666666}]"
      ]
     },
     "execution_count": 6,
     "metadata": {},
     "output_type": "execute_result"
    }
   ],
   "source": [
    "search(\"Paris football\")"
   ]
  },
  {
   "cell_type": "code",
   "execution_count": 7,
   "metadata": {},
   "outputs": [
    {
     "data": {
      "text/plain": [
       "[{'id': 52, 'similarity': 2.064516129032258},\n",
       " {'id': 49, 'similarity': 1.0606060606060606},\n",
       " {'id': 56, 'similarity': 0.7291666666666666},\n",
       " {'id': 45, 'similarity': 0.5555555555555556},\n",
       " {'id': 48, 'similarity': 0.45882352941176474},\n",
       " {'id': 41, 'similarity': 0.38738738738738737},\n",
       " {'id': 54, 'similarity': 0.3322259136212624},\n",
       " {'id': 47, 'similarity': 0.3026315789473684},\n",
       " {'id': 50, 'similarity': 0.27100271002710025},\n",
       " {'id': 53, 'similarity': 0.25},\n",
       " {'id': 42, 'similarity': 0.23896103896103896},\n",
       " {'id': 51, 'similarity': 0.21014492753623187},\n",
       " {'id': 46, 'similarity': 0.1982905982905983},\n",
       " {'id': 55, 'similarity': 0.18831168831168832},\n",
       " {'id': 44, 'similarity': 0.18095238095238095},\n",
       " {'id': 43, 'similarity': 0.1689291101055807},\n",
       " {'id': 67, 'similarity': 0.1675531914893617},\n",
       " {'id': 63, 'similarity': 0.15192743764172334},\n",
       " {'id': 69, 'similarity': 0.1437246963562753},\n",
       " {'id': 29, 'similarity': 0.13773584905660377},\n",
       " {'id': 74, 'similarity': 0.1286231884057971},\n",
       " {'id': 35, 'similarity': 0.12727272727272726},\n",
       " {'id': 37, 'similarity': 0.1172316384180791},\n",
       " {'id': 57, 'similarity': 0.11703703703703704},\n",
       " {'id': 70, 'similarity': 0.11407407407407408},\n",
       " {'id': 28, 'similarity': 0.10714285714285714},\n",
       " {'id': 93, 'similarity': 0.10114942528735632},\n",
       " {'id': 32, 'similarity': 0.047619047619047616},\n",
       " {'id': 40, 'similarity': 0.038461538461538464},\n",
       " {'id': 36, 'similarity': 0.034482758620689655},\n",
       " {'id': 90, 'similarity': 0.0196078431372549},\n",
       " {'id': 81, 'similarity': 0.017543859649122806},\n",
       " {'id': 68, 'similarity': 0.016666666666666666}]"
      ]
     },
     "execution_count": 7,
     "metadata": {},
     "output_type": "execute_result"
    }
   ],
   "source": [
    "search(\"speciality Lyon\")"
   ]
  },
  {
   "cell_type": "markdown",
   "metadata": {},
   "source": [
    "We can automatically map document identifiers to their content."
   ]
  },
  {
   "cell_type": "code",
   "execution_count": 8,
   "metadata": {},
   "outputs": [],
   "source": [
    "search += documents"
   ]
  },
  {
   "cell_type": "code",
   "execution_count": 9,
   "metadata": {},
   "outputs": [
    {
     "data": {
      "text/plain": [
       "[{'id': 20,\n",
       "  'title': 'Paris',\n",
       "  'url': 'https://en.wikipedia.org/wiki/Paris',\n",
       "  'article': 'The football club Paris Saint-Germain and the rugby union club Stade Français are based in Paris.',\n",
       "  'similarity': 2.064516129032258},\n",
       " {'id': 24,\n",
       "  'title': 'Paris',\n",
       "  'url': 'https://en.wikipedia.org/wiki/Paris',\n",
       "  'article': 'The 1938 and 1998 FIFA World Cups, the 2007 Rugby World Cup, as well as the 1960, 1984 and 2016 UEFA European Championships were also held in the city.',\n",
       "  'similarity': 1.0625},\n",
       " {'id': 16,\n",
       "  'title': 'Paris',\n",
       "  'url': 'https://en.wikipedia.org/wiki/Paris',\n",
       "  'article': 'Paris received 12.',\n",
       "  'similarity': 0.7254901960784313}]"
      ]
     },
     "execution_count": 9,
     "metadata": {},
     "output_type": "execute_result"
    }
   ],
   "source": [
    "search(\"Paris football\")[:3]"
   ]
  },
  {
   "cell_type": "code",
   "execution_count": 10,
   "metadata": {},
   "outputs": [
    {
     "data": {
      "text/plain": [
       "[{'id': 52,\n",
       "  'title': 'Lyon',\n",
       "  'url': 'https://en.wikipedia.org/wiki/Lyon',\n",
       "  'article': 'Economically, Lyon is a major centre for banking, as well as for the chemical, pharmaceutical and biotech industries.',\n",
       "  'similarity': 2.064516129032258},\n",
       " {'id': 49,\n",
       "  'title': 'Lyon',\n",
       "  'url': 'https://en.wikipedia.org/wiki/Lyon',\n",
       "  'article': 'Lyon was historically an important area for the production and weaving of silk.',\n",
       "  'similarity': 1.0606060606060606},\n",
       " {'id': 56,\n",
       "  'title': 'Lyon',\n",
       "  'url': 'https://en.wikipedia.org/wiki/Lyon',\n",
       "  'article': \"It ranked second in France and 40th globally in Mercer's 2019 liveability rankings.\",\n",
       "  'similarity': 0.7291666666666666}]"
      ]
     },
     "execution_count": 10,
     "metadata": {},
     "output_type": "execute_result"
    }
   ],
   "source": [
    "search(\"speciality Lyon\")[:3]"
   ]
  },
  {
   "cell_type": "markdown",
   "metadata": {},
   "source": [
    "## Voting is also compatible with retrievers"
   ]
  },
  {
   "cell_type": "code",
   "execution_count": 11,
   "metadata": {},
   "outputs": [],
   "source": [
    "retriever = retrieve.TfIdf(\n",
    "    key=\"id\", on=[\"title\", \"article\"], documents=documents, k=100\n",
    ") * retrieve.Lunr(key=\"id\", on=[\"title\", \"article\"], documents=documents, k=100)"
   ]
  },
  {
   "cell_type": "code",
   "execution_count": 12,
   "metadata": {},
   "outputs": [],
   "source": [
    "search = retriever + documents"
   ]
  },
  {
   "cell_type": "code",
   "execution_count": 13,
   "metadata": {},
   "outputs": [
    {
     "name": "stderr",
     "output_type": "stream",
     "text": [
      "TfIdf retriever: 100%|██████| 1/1 [00:00<00:00, 362.83it/s]\n",
      "Lunr retriever: 100%|███████| 1/1 [00:00<00:00, 545.57it/s]\n"
     ]
    },
    {
     "data": {
      "text/plain": [
       "[{'id': 20,\n",
       "  'title': 'Paris',\n",
       "  'url': 'https://en.wikipedia.org/wiki/Paris',\n",
       "  'article': 'The football club Paris Saint-Germain and the rugby union club Stade Français are based in Paris.',\n",
       "  'similarity': 2.0238095238095237},\n",
       " {'id': 16,\n",
       "  'title': 'Paris',\n",
       "  'url': 'https://en.wikipedia.org/wiki/Paris',\n",
       "  'article': 'Paris received 12.',\n",
       "  'similarity': 1.0235294117647058},\n",
       " {'id': 7,\n",
       "  'title': 'Paris',\n",
       "  'url': 'https://en.wikipedia.org/wiki/Paris',\n",
       "  'article': \"Opened in 1900, the city's subway system, the Paris Métro, serves 5.\",\n",
       "  'similarity': 0.6893939393939393}]"
      ]
     },
     "execution_count": 13,
     "metadata": {},
     "output_type": "execute_result"
    }
   ],
   "source": [
    "search(\"Paris football\")[:3]"
   ]
  },
  {
   "cell_type": "code",
   "execution_count": 14,
   "metadata": {},
   "outputs": [
    {
     "name": "stderr",
     "output_type": "stream",
     "text": [
      "TfIdf retriever: 100%|██████| 1/1 [00:00<00:00, 279.47it/s]\n",
      "Lunr retriever: 100%|███████| 1/1 [00:00<00:00, 820.16it/s]\n"
     ]
    },
    {
     "data": {
      "text/plain": [
       "[{'id': 10,\n",
       "  'title': 'Paris',\n",
       "  'url': 'https://en.wikipedia.org/wiki/Paris',\n",
       "  'article': 'Paris is especially known for its museums and architectural landmarks: the Louvre remained the most-visited museum in the world with  2,677,504 visitors in 2020, despite the long museum closings caused by the COVID-19 virus.',\n",
       "  'similarity': 1.0},\n",
       " {'id': 44,\n",
       "  'title': 'Lyon',\n",
       "  'url': 'https://en.wikipedia.org/wiki/Lyon',\n",
       "  'article': 'Lyon and 58 suburban municipalities have formed since 2015 the Metropolis of Lyon, a directly elected metropolitan authority now in charge of most urban issues, with a population of 1,385,927 in 2017.',\n",
       "  'similarity': 0.6974358974358974},\n",
       " {'id': 41,\n",
       "  'title': 'Lyon',\n",
       "  'url': 'https://en.wikipedia.org/wiki/Lyon',\n",
       "  'article': 'Lyon or Lyons (UK: , US: , French: [ljɔ̃] (listen); Arpitan: Liyon, pronounced [ʎjɔ̃]) is the third-largest city and second-largest urban area of France.',\n",
       "  'similarity': 0.5303030303030303}]"
      ]
     },
     "execution_count": 14,
     "metadata": {},
     "output_type": "execute_result"
    }
   ],
   "source": [
    "search(\"speciality Lyon\")[:3]"
   ]
  }
 ],
 "metadata": {
  "interpreter": {
   "hash": "7b170744ab9cf7446ed3e27cb2734f2273f9ffda6b52a7d603d13471f7231bb1"
  },
  "kernelspec": {
   "display_name": "Python 3 (ipykernel)",
   "language": "python",
   "name": "python3"
  },
  "language_info": {
   "codemirror_mode": {
    "name": "ipython",
    "version": 3
   },
   "file_extension": ".py",
   "mimetype": "text/x-python",
   "name": "python",
   "nbconvert_exporter": "python",
   "pygments_lexer": "ipython3",
   "version": "3.10.11"
  }
 },
 "nbformat": 4,
 "nbformat_minor": 2
}
