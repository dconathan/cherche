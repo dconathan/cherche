{
 "cells": [
  {
   "cell_type": "markdown",
   "metadata": {},
   "source": [
    "# Encoder as a retriever"
   ]
  },
  {
   "cell_type": "markdown",
   "metadata": {},
   "source": [
    "In certain cases, particularly with small corpora, a user's query may not match any documents. This is where neural search proves to be incredibly useful, as the encoder can act as a backup to locate relevant documents in situations where traditional retrievers have failed to do so."
   ]
  },
  {
   "cell_type": "code",
   "execution_count": 1,
   "metadata": {},
   "outputs": [],
   "source": [
    "from cherche import retrieve, rank, data\n",
    "from sentence_transformers import SentenceTransformer"
   ]
  },
  {
   "cell_type": "markdown",
   "metadata": {},
   "source": [
    "Let's load a dummy dataset"
   ]
  },
  {
   "cell_type": "code",
   "execution_count": 2,
   "metadata": {},
   "outputs": [
    {
     "data": {
      "text/plain": [
       "[{'id': 0,\n",
       "  'title': 'Paris',\n",
       "  'url': 'https://en.wikipedia.org/wiki/Paris',\n",
       "  'article': 'Paris (French pronunciation: \\u200b[paʁi] (listen)) is the capital and most populous city of France, with an estimated population of 2,175,601 residents as of 2018, in an area of more than 105 square kilometres (41 square miles).'},\n",
       " {'id': 1,\n",
       "  'title': 'Paris',\n",
       "  'url': 'https://en.wikipedia.org/wiki/Paris',\n",
       "  'article': \"Since the 17th century, Paris has been one of Europe's major centres of finance, diplomacy, commerce, fashion, gastronomy, science, and arts.\"}]"
      ]
     },
     "execution_count": 2,
     "metadata": {},
     "output_type": "execute_result"
    }
   ],
   "source": [
    "documents = data.load_towns()\n",
    "documents[:2]"
   ]
  },
  {
   "cell_type": "markdown",
   "metadata": {},
   "source": [
    "First, we will perform a search with a TfIdf to show that the model's ability to retrieve documents may be limited."
   ]
  },
  {
   "cell_type": "code",
   "execution_count": 3,
   "metadata": {},
   "outputs": [
    {
     "data": {
      "text/plain": [
       "TfIdf retriever\n",
       "\tkey      : id\n",
       "\ton       : article, title\n",
       "\tdocuments: 105"
      ]
     },
     "execution_count": 3,
     "metadata": {},
     "output_type": "execute_result"
    }
   ],
   "source": [
    "retriever = retrieve.TfIdf(key=\"id\", on=[\"article\", \"title\"], documents=documents)\n",
    "retriever"
   ]
  },
  {
   "cell_type": "markdown",
   "metadata": {},
   "source": [
    "There is a single document that match the query \"food\" using default TfIdf."
   ]
  },
  {
   "cell_type": "code",
   "execution_count": 4,
   "metadata": {},
   "outputs": [
    {
     "data": {
      "text/plain": [
       "[{'id': 96, 'similarity': 0.057060669878117906},\n",
       " {'id': 20, 'similarity': 0.02514090300945658}]"
      ]
     },
     "execution_count": 4,
     "metadata": {},
     "output_type": "execute_result"
    }
   ],
   "source": [
    "retriever(\"food\", k=10)"
   ]
  },
  {
   "cell_type": "markdown",
   "metadata": {},
   "source": [
    "We can now compare these results with the `retrieve.Encoder` using Sentence Bert. The `add` method takes time because the retriever will compute embeddings for every document."
   ]
  },
  {
   "cell_type": "code",
   "execution_count": 5,
   "metadata": {},
   "outputs": [
    {
     "name": "stderr",
     "output_type": "stream",
     "text": [
      "Encoder index creation: 100%|█| 2/2 [00:02<00:00,  1.30s/it\n"
     ]
    },
    {
     "data": {
      "text/plain": [
       "Encoder retriever\n",
       "\tkey      : id\n",
       "\ton       : title, article\n",
       "\tdocuments: 105"
      ]
     },
     "execution_count": 5,
     "metadata": {},
     "output_type": "execute_result"
    }
   ],
   "source": [
    "retriever = retrieve.Encoder(\n",
    "    key=\"id\",\n",
    "    on=[\"title\", \"article\"],\n",
    "    encoder=SentenceTransformer(\"sentence-transformers/all-mpnet-base-v2\").encode,\n",
    ")\n",
    "\n",
    "retriever.add(documents=documents)"
   ]
  },
  {
   "cell_type": "markdown",
   "metadata": {},
   "source": [
    "As can be seen, the encoder recalls more documents, even if they do not systematically contain the word \"food\". These documents seem relevant."
   ]
  },
  {
   "cell_type": "code",
   "execution_count": 6,
   "metadata": {},
   "outputs": [
    {
     "data": {
      "text/plain": [
       "[{'id': 48, 'similarity': 0.3757082873324092},\n",
       " {'id': 66, 'similarity': 0.3735201261683402},\n",
       " {'id': 96, 'similarity': 0.37012889770913526},\n",
       " {'id': 16, 'similarity': 0.3682042586662517},\n",
       " {'id': 49, 'similarity': 0.3594711511884871}]"
      ]
     },
     "execution_count": 6,
     "metadata": {},
     "output_type": "execute_result"
    }
   ],
   "source": [
    "retriever(\"food\", k=5)"
   ]
  },
  {
   "cell_type": "code",
   "execution_count": 7,
   "metadata": {},
   "outputs": [
    {
     "data": {
      "text/plain": [
       "[{'id': 48,\n",
       "  'title': 'Lyon',\n",
       "  'url': 'https://en.wikipedia.org/wiki/Lyon',\n",
       "  'article': \"The city is recognised for its cuisine and gastronomy, as well as historical and architectural landmarks; as such, the districts of Old Lyon, the Fourvière hill, the Presqu'île and the slopes of the Croix-Rousse are inscribed on the UNESCO World Heritage List.\",\n",
       "  'similarity': 0.3757082873324092},\n",
       " {'id': 66,\n",
       "  'title': 'Bordeaux',\n",
       "  'url': 'https://en.wikipedia.org/wiki/Bordeaux',\n",
       "  'article': 'Bordeaux is also one of the centers of gastronomy and business tourism for the organization of international congresses.',\n",
       "  'similarity': 0.3735201261683402},\n",
       " {'id': 96,\n",
       "  'title': 'Montreal',\n",
       "  'url': 'https://en.wikipedia.org/wiki/Montreal',\n",
       "  'article': 'It remains an important centre of commerce, aerospace, transport, finance, pharmaceuticals, technology, design, education, art, culture, tourism, food, fashion, video game development, film, and world affairs.',\n",
       "  'similarity': 0.37012889770913526},\n",
       " {'id': 16,\n",
       "  'title': 'Paris',\n",
       "  'url': 'https://en.wikipedia.org/wiki/Paris',\n",
       "  'article': 'Paris received 12.',\n",
       "  'similarity': 0.3682042586662517},\n",
       " {'id': 49,\n",
       "  'title': 'Lyon',\n",
       "  'url': 'https://en.wikipedia.org/wiki/Lyon',\n",
       "  'article': 'Lyon was historically an important area for the production and weaving of silk.',\n",
       "  'similarity': 0.3594711511884871}]"
      ]
     },
     "execution_count": 7,
     "metadata": {},
     "output_type": "execute_result"
    }
   ],
   "source": [
    "pipeline = retriever + documents\n",
    "pipeline(\"food\", k=5)"
   ]
  },
  {
   "cell_type": "markdown",
   "metadata": {},
   "source": [
    "We can create a fancy neural search pipeline to benefit from TfIdf precision and Sentence Transformers recall using union operator `|`."
   ]
  },
  {
   "cell_type": "code",
   "execution_count": 8,
   "metadata": {},
   "outputs": [],
   "source": [
    "encoder = SentenceTransformer(\"sentence-transformers/all-mpnet-base-v2\").encode"
   ]
  },
  {
   "cell_type": "code",
   "execution_count": 9,
   "metadata": {},
   "outputs": [
    {
     "name": "stderr",
     "output_type": "stream",
     "text": [
      "Encoder ranker: 100%|████████| 2/2 [00:02<00:00,  1.37s/it]\n",
      "Encoder index creation: 100%|█| 2/2 [00:02<00:00,  1.31s/it\n"
     ]
    },
    {
     "data": {
      "text/plain": [
       "Union Pipeline\n",
       "-----\n",
       "TfIdf retriever\n",
       "\tkey      : id\n",
       "\ton       : article, title\n",
       "\tdocuments: 105\n",
       "Encoder ranker\n",
       "\tkey       : id\n",
       "\ton        : title, article\n",
       "\tnormalize : True\n",
       "\tembeddings: 105\n",
       "Encoder retriever\n",
       "\tkey      : id\n",
       "\ton       : title, article\n",
       "\tdocuments: 105\n",
       "-----"
      ]
     },
     "execution_count": 9,
     "metadata": {},
     "output_type": "execute_result"
    }
   ],
   "source": [
    "# Precision pipeline\n",
    "precision = retrieve.TfIdf(\n",
    "    key=\"id\", on=[\"article\", \"title\"], documents=documents\n",
    ") + rank.Encoder(key=\"id\", on=[\"title\", \"article\"], encoder=encoder)\n",
    "\n",
    "# Recall pipeline\n",
    "recall = retrieve.Encoder(key=\"id\", on=[\"title\", \"article\"], encoder=encoder)\n",
    "\n",
    "search = precision | recall\n",
    "\n",
    "search.add(documents=documents)"
   ]
  },
  {
   "cell_type": "markdown",
   "metadata": {},
   "source": [
    "Our pipeline will first propose documents from the `precision` pipeline and then documents proposed by the `recall` pipeline. "
   ]
  },
  {
   "cell_type": "code",
   "execution_count": 10,
   "metadata": {},
   "outputs": [
    {
     "name": "stderr",
     "output_type": "stream",
     "text": [
      "TfIdf retriever: 100%|██████| 1/1 [00:00<00:00, 740.78it/s]\n",
      "Ranker scoring: 1it [00:00, 10407.70it/s]\n",
      "Ranker sorting: 1it [00:00, 15196.75it/s]\n",
      "Encoder retriever: 100%|█████| 1/1 [00:00<00:00, 19.30it/s]\n"
     ]
    },
    {
     "data": {
      "text/plain": [
       "[{'id': 96, 'similarity': 2.4},\n",
       " {'id': 20, 'similarity': 1.0206185567010309},\n",
       " {'id': 48, 'similarity': 0.3333333333333333}]"
      ]
     },
     "execution_count": 10,
     "metadata": {},
     "output_type": "execute_result"
    }
   ],
   "source": [
    "search(\"food\", k=100)[:3]"
   ]
  },
  {
   "cell_type": "code",
   "execution_count": 11,
   "metadata": {},
   "outputs": [
    {
     "name": "stderr",
     "output_type": "stream",
     "text": [
      "TfIdf retriever: 100%|██████| 1/1 [00:00<00:00, 898.33it/s]\n",
      "Ranker scoring: 1it [00:00, 16644.06it/s]\n",
      "Ranker sorting: 1it [00:00, 20460.02it/s]\n",
      "Encoder retriever: 100%|█████| 1/1 [00:00<00:00, 18.98it/s]\n"
     ]
    },
    {
     "data": {
      "text/plain": [
       "[{'id': 96,\n",
       "  'title': 'Montreal',\n",
       "  'url': 'https://en.wikipedia.org/wiki/Montreal',\n",
       "  'article': 'It remains an important centre of commerce, aerospace, transport, finance, pharmaceuticals, technology, design, education, art, culture, tourism, food, fashion, video game development, film, and world affairs.',\n",
       "  'similarity': 2.4},\n",
       " {'id': 20,\n",
       "  'title': 'Paris',\n",
       "  'url': 'https://en.wikipedia.org/wiki/Paris',\n",
       "  'article': 'The football club Paris Saint-Germain and the rugby union club Stade Français are based in Paris.',\n",
       "  'similarity': 1.0206185567010309},\n",
       " {'id': 48,\n",
       "  'title': 'Lyon',\n",
       "  'url': 'https://en.wikipedia.org/wiki/Lyon',\n",
       "  'article': \"The city is recognised for its cuisine and gastronomy, as well as historical and architectural landmarks; as such, the districts of Old Lyon, the Fourvière hill, the Presqu'île and the slopes of the Croix-Rousse are inscribed on the UNESCO World Heritage List.\",\n",
       "  'similarity': 0.3333333333333333}]"
      ]
     },
     "execution_count": 11,
     "metadata": {},
     "output_type": "execute_result"
    }
   ],
   "source": [
    "# Map documents to the pipeline.\n",
    "search = search + documents\n",
    "search(\"food\", k=100)[:3]"
   ]
  }
 ],
 "metadata": {
  "interpreter": {
   "hash": "7b170744ab9cf7446ed3e27cb2734f2273f9ffda6b52a7d603d13471f7231bb1"
  },
  "kernelspec": {
   "display_name": "Python 3 (ipykernel)",
   "language": "python",
   "name": "python3"
  },
  "language_info": {
   "codemirror_mode": {
    "name": "ipython",
    "version": 3
   },
   "file_extension": ".py",
   "mimetype": "text/x-python",
   "name": "python",
   "nbconvert_exporter": "python",
   "pygments_lexer": "ipython3",
   "version": "3.10.11"
  }
 },
 "nbformat": 4,
 "nbformat_minor": 2
}
