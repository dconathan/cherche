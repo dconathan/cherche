{
 "cells": [
  {
   "cell_type": "markdown",
   "metadata": {},
   "source": [
    "# Union and intersection of rankers"
   ]
  },
  {
   "cell_type": "markdown",
   "metadata": {},
   "source": [
    "Let's build a pipeline using union `|` and intersection `&` operators."
   ]
  },
  {
   "cell_type": "code",
   "execution_count": 1,
   "metadata": {},
   "outputs": [],
   "source": [
    "from cherche import data, rank, retrieve\n",
    "from sentence_transformers import SentenceTransformer"
   ]
  },
  {
   "cell_type": "markdown",
   "metadata": {},
   "source": [
    "The first step is to define the corpus on which we will perform the neural search. The towns dataset contains about a hundred documents, all of which have four attributes, an `id`, the `title` of the article, the `url` and the content of the `article`."
   ]
  },
  {
   "cell_type": "code",
   "execution_count": 2,
   "metadata": {},
   "outputs": [
    {
     "data": {
      "text/plain": [
       "[{'id': 0,\n",
       "  'title': 'Paris',\n",
       "  'url': 'https://en.wikipedia.org/wiki/Paris',\n",
       "  'article': 'Paris (French pronunciation: \\u200b[paʁi] (listen)) is the capital and most populous city of France, with an estimated population of 2,175,601 residents as of 2018, in an area of more than 105 square kilometres (41 square miles).'},\n",
       " {'id': 1,\n",
       "  'title': 'Paris',\n",
       "  'url': 'https://en.wikipedia.org/wiki/Paris',\n",
       "  'article': \"Since the 17th century, Paris has been one of Europe's major centres of finance, diplomacy, commerce, fashion, gastronomy, science, and arts.\"},\n",
       " {'id': 2,\n",
       "  'title': 'Paris',\n",
       "  'url': 'https://en.wikipedia.org/wiki/Paris',\n",
       "  'article': 'The City of Paris is the centre and seat of government of the region and province of Île-de-France, or Paris Region, which has an estimated population of 12,174,880, or about 18 percent of the population of France as of 2017.'},\n",
       " {'id': 3,\n",
       "  'title': 'Paris',\n",
       "  'url': 'https://en.wikipedia.org/wiki/Paris',\n",
       "  'article': 'The Paris Region had a GDP of €709 billion ($808 billion) in 2017.'}]"
      ]
     },
     "execution_count": 2,
     "metadata": {},
     "output_type": "execute_result"
    }
   ],
   "source": [
    "documents = data.load_towns()\n",
    "documents[:4]"
   ]
  },
  {
   "cell_type": "markdown",
   "metadata": {},
   "source": [
    "## Union"
   ]
  },
  {
   "cell_type": "markdown",
   "metadata": {},
   "source": [
    "Let's create the union of two pipelines. The first with high precision and low recall and the second with better recall."
   ]
  },
  {
   "cell_type": "code",
   "execution_count": 3,
   "metadata": {},
   "outputs": [],
   "source": [
    "# Low recall, high precision\n",
    "precision = retrieve.Flash(key=\"id\", on=[\"title\", \"article\"], k=30) + rank.Encoder(\n",
    "    key=\"id\",\n",
    "    on=[\"title\", \"article\"],\n",
    "    encoder=SentenceTransformer(\"sentence-transformers/all-mpnet-base-v2\").encode,\n",
    ")\n",
    "\n",
    "# High recall\n",
    "recall = retrieve.TfIdf(\n",
    "    key=\"id\", on=[\"title\", \"article\"], documents=documents, k=30\n",
    ") + rank.Encoder(\n",
    "    key=\"id\",\n",
    "    on=[\"title\", \"article\"],\n",
    "    encoder=SentenceTransformer(\"sentence-transformers/all-mpnet-base-v2\").encode,\n",
    ")"
   ]
  },
  {
   "cell_type": "code",
   "execution_count": 4,
   "metadata": {},
   "outputs": [
    {
     "name": "stderr",
     "output_type": "stream",
     "text": [
      "Encoder ranker: 100%|████████| 2/2 [00:02<00:00,  1.35s/it]\n",
      "Encoder ranker: 100%|████████| 2/2 [00:02<00:00,  1.32s/it]\n"
     ]
    },
    {
     "data": {
      "text/plain": [
       "Union Pipeline\n",
       "-----\n",
       "Flash retriever\n",
       "\tkey      : id\n",
       "\ton       : title, article\n",
       "\tdocuments: 110\n",
       "Encoder ranker\n",
       "\tkey       : id\n",
       "\ton        : title, article\n",
       "\tnormalize : True\n",
       "\tembeddings: 105\n",
       "TfIdf retriever\n",
       "\tkey      : id\n",
       "\ton       : title, article\n",
       "\tdocuments: 105\n",
       "Encoder ranker\n",
       "\tkey       : id\n",
       "\ton        : title, article\n",
       "\tnormalize : True\n",
       "\tembeddings: 105\n",
       "-----"
      ]
     },
     "execution_count": 4,
     "metadata": {},
     "output_type": "execute_result"
    }
   ],
   "source": [
    "# Union: precision | recall\n",
    "search = precision | recall\n",
    "search.add(documents)"
   ]
  },
  {
   "cell_type": "code",
   "execution_count": 5,
   "metadata": {},
   "outputs": [
    {
     "name": "stderr",
     "output_type": "stream",
     "text": [
      "Flash retriever: 100%|█████| 1/1 [00:00<00:00, 8473.34it/s]\n",
      "TfIdf retriever: 100%|██████| 1/1 [00:00<00:00, 240.38it/s]\n"
     ]
    },
    {
     "data": {
      "text/plain": [
       "[{'id': 20, 'similarity': 2.074074074074074},\n",
       " {'id': 24, 'similarity': 0.5},\n",
       " {'id': 16, 'similarity': 0.738095238095238},\n",
       " {'id': 21, 'similarity': 0.5689655172413793},\n",
       " {'id': 22, 'similarity': 0.4645161290322581},\n",
       " {'id': 1, 'similarity': 0.3958333333333333},\n",
       " {'id': 0, 'similarity': 0.3463203463203463},\n",
       " {'id': 2, 'similarity': 0.3088235294117647},\n",
       " {'id': 25, 'similarity': 0.27936507936507937},\n",
       " {'id': 6, 'similarity': 0.25555555555555554},\n",
       " {'id': 3, 'similarity': 0.23587223587223588},\n",
       " {'id': 23, 'similarity': 0.21929824561403508},\n",
       " {'id': 14, 'similarity': 0.20512820512820512},\n",
       " {'id': 7, 'similarity': 0.19163763066202089},\n",
       " {'id': 8, 'similarity': 0.18095238095238095},\n",
       " {'id': 17, 'similarity': 0.17151162790697674},\n",
       " {'id': 9, 'similarity': 0.16310160427807485},\n",
       " {'id': 13, 'similarity': 0.15555555555555556},\n",
       " {'id': 12, 'similarity': 0.14874141876430205},\n",
       " {'id': 15, 'similarity': 0.1425531914893617},\n",
       " {'id': 5, 'similarity': 0.13605442176870747},\n",
       " {'id': 10, 'similarity': 0.13012477718360071},\n",
       " {'id': 19, 'similarity': 0.1254180602006689},\n",
       " {'id': 11, 'similarity': 0.12037037037037036},\n",
       " {'id': 4, 'similarity': 0.11636363636363636},\n",
       " {'id': 18, 'similarity': 0.11263736263736264},\n",
       " {'id': 56, 'similarity': 0.03333333333333333},\n",
       " {'id': 51, 'similarity': 0.025},\n",
       " {'id': 53, 'similarity': 0.020833333333333332},\n",
       " {'id': 52, 'similarity': 0.02},\n",
       " {'id': 94, 'similarity': 0.018867924528301886}]"
      ]
     },
     "execution_count": 5,
     "metadata": {},
     "output_type": "execute_result"
    }
   ],
   "source": [
    "search(\"Paris football\", k=30)"
   ]
  },
  {
   "cell_type": "code",
   "execution_count": 6,
   "metadata": {},
   "outputs": [
    {
     "name": "stderr",
     "output_type": "stream",
     "text": [
      "Flash retriever: 100%|█████| 1/1 [00:00<00:00, 5377.31it/s]\n",
      "TfIdf retriever: 100%|██████| 1/1 [00:00<00:00, 609.37it/s]\n"
     ]
    },
    {
     "data": {
      "text/plain": [
       "[{'id': 49, 'similarity': 2.1818181818181817},\n",
       " {'id': 45, 'similarity': 1.1538461538461537},\n",
       " {'id': 48, 'similarity': 0.3333333333333333},\n",
       " {'id': 41, 'similarity': 0.6428571428571428},\n",
       " {'id': 47, 'similarity': 0.5333333333333333},\n",
       " {'id': 50, 'similarity': 0.16666666666666666},\n",
       " {'id': 42, 'similarity': 0.14285714285714285},\n",
       " {'id': 46, 'similarity': 0.125},\n",
       " {'id': 44, 'similarity': 0.33986928104575165},\n",
       " {'id': 43, 'similarity': 0.3111111111111111},\n",
       " {'id': 56, 'similarity': 0.08333333333333333},\n",
       " {'id': 55, 'similarity': 0.0625},\n",
       " {'id': 10, 'similarity': 0.05263157894736842},\n",
       " {'id': 58, 'similarity': 0.05}]"
      ]
     },
     "execution_count": 6,
     "metadata": {},
     "output_type": "execute_result"
    }
   ],
   "source": [
    "search(\"speciality Lyon\", k=10)"
   ]
  },
  {
   "cell_type": "markdown",
   "metadata": {},
   "source": [
    "We can automatically map document identifiers to their content."
   ]
  },
  {
   "cell_type": "code",
   "execution_count": 7,
   "metadata": {},
   "outputs": [],
   "source": [
    "search += documents"
   ]
  },
  {
   "cell_type": "code",
   "execution_count": 8,
   "metadata": {},
   "outputs": [
    {
     "name": "stderr",
     "output_type": "stream",
     "text": [
      "Flash retriever: 100%|████| 1/1 [00:00<00:00, 10866.07it/s]\n",
      "TfIdf retriever: 100%|█████| 1/1 [00:00<00:00, 1649.35it/s]\n"
     ]
    },
    {
     "data": {
      "text/plain": [
       "[{'id': 20,\n",
       "  'title': 'Paris',\n",
       "  'url': 'https://en.wikipedia.org/wiki/Paris',\n",
       "  'article': 'The football club Paris Saint-Germain and the rugby union club Stade Français are based in Paris.',\n",
       "  'similarity': 2.074074074074074},\n",
       " {'id': 24,\n",
       "  'title': 'Paris',\n",
       "  'url': 'https://en.wikipedia.org/wiki/Paris',\n",
       "  'article': 'The 1938 and 1998 FIFA World Cups, the 2007 Rugby World Cup, as well as the 1960, 1984 and 2016 UEFA European Championships were also held in the city.',\n",
       "  'similarity': 0.5},\n",
       " {'id': 16,\n",
       "  'title': 'Paris',\n",
       "  'url': 'https://en.wikipedia.org/wiki/Paris',\n",
       "  'article': 'Paris received 12.',\n",
       "  'similarity': 0.738095238095238},\n",
       " {'id': 21,\n",
       "  'title': 'Paris',\n",
       "  'url': 'https://en.wikipedia.org/wiki/Paris',\n",
       "  'article': 'The 80,000-seat Stade de France, built for the 1998 FIFA World Cup, is located just north of Paris in the neighbouring commune of Saint-Denis.',\n",
       "  'similarity': 0.5689655172413793},\n",
       " {'id': 22,\n",
       "  'title': 'Paris',\n",
       "  'url': 'https://en.wikipedia.org/wiki/Paris',\n",
       "  'article': 'Paris hosts the annual French Open Grand Slam tennis tournament on the red clay of Roland Garros.',\n",
       "  'similarity': 0.4645161290322581}]"
      ]
     },
     "execution_count": 8,
     "metadata": {},
     "output_type": "execute_result"
    }
   ],
   "source": [
    "search(\"Paris football\", k=30)[:5]"
   ]
  },
  {
   "cell_type": "code",
   "execution_count": 9,
   "metadata": {},
   "outputs": [
    {
     "name": "stderr",
     "output_type": "stream",
     "text": [
      "Flash retriever: 100%|██████| 1/1 [00:00<00:00, 529.05it/s]\n",
      "TfIdf retriever: 100%|██████| 1/1 [00:00<00:00, 958.04it/s]\n"
     ]
    },
    {
     "data": {
      "text/plain": [
       "[{'id': 52,\n",
       "  'title': 'Lyon',\n",
       "  'url': 'https://en.wikipedia.org/wiki/Lyon',\n",
       "  'article': 'Economically, Lyon is a major centre for banking, as well as for the chemical, pharmaceutical and biotech industries.',\n",
       "  'similarity': 2.1176470588235294},\n",
       " {'id': 49,\n",
       "  'title': 'Lyon',\n",
       "  'url': 'https://en.wikipedia.org/wiki/Lyon',\n",
       "  'article': 'Lyon was historically an important area for the production and weaving of silk.',\n",
       "  'similarity': 1.1111111111111112},\n",
       " {'id': 56,\n",
       "  'title': 'Lyon',\n",
       "  'url': 'https://en.wikipedia.org/wiki/Lyon',\n",
       "  'article': \"It ranked second in France and 40th globally in Mercer's 2019 liveability rankings.\",\n",
       "  'similarity': 0.7719298245614035},\n",
       " {'id': 45,\n",
       "  'title': 'Lyon',\n",
       "  'url': 'https://en.wikipedia.org/wiki/Lyon',\n",
       "  'article': 'Lyon is the prefecture of the Auvergne-Rhône-Alpes region and seat of the Departmental Council of Rhône (whose jurisdiction, however, no longer extends over the Metropolis of Lyon since 2015).',\n",
       "  'similarity': 0.6},\n",
       " {'id': 48,\n",
       "  'title': 'Lyon',\n",
       "  'url': 'https://en.wikipedia.org/wiki/Lyon',\n",
       "  'article': \"The city is recognised for its cuisine and gastronomy, as well as historical and architectural landmarks; as such, the districts of Old Lyon, the Fourvière hill, the Presqu'île and the slopes of the Croix-Rousse are inscribed on the UNESCO World Heritage List.\",\n",
       "  'similarity': 0.49523809523809526}]"
      ]
     },
     "execution_count": 9,
     "metadata": {},
     "output_type": "execute_result"
    }
   ],
   "source": [
    "search(\"speciality Lyon\", k=30)[:5]"
   ]
  },
  {
   "cell_type": "markdown",
   "metadata": {},
   "source": [
    "## Intersection"
   ]
  },
  {
   "cell_type": "code",
   "execution_count": 10,
   "metadata": {},
   "outputs": [],
   "source": [
    "retriever = retrieve.Lunr(key=\"id\", on=[\"title\", \"article\"], documents=documents)"
   ]
  },
  {
   "cell_type": "markdown",
   "metadata": {},
   "source": [
    "We will build a set of rankers consisting of two different pre-trained models with the intersection operator `&`. The pipeline will only offer the documents returned by the union of the two retrievers and the intersection of the rankers."
   ]
  },
  {
   "cell_type": "code",
   "execution_count": 11,
   "metadata": {},
   "outputs": [],
   "source": [
    "ranker = rank.Encoder(\n",
    "    key=\"id\",\n",
    "    on=[\"title\", \"article\"],\n",
    "    encoder=SentenceTransformer(\"sentence-transformers/all-mpnet-base-v2\").encode,\n",
    ") & rank.Encoder(\n",
    "    key=\"id\",\n",
    "    on=[\"title\", \"article\"],\n",
    "    encoder=SentenceTransformer(\n",
    "        \"sentence-transformers/multi-qa-mpnet-base-cos-v1\"\n",
    "    ).encode,\n",
    ")"
   ]
  },
  {
   "cell_type": "code",
   "execution_count": 12,
   "metadata": {},
   "outputs": [
    {
     "name": "stderr",
     "output_type": "stream",
     "text": [
      "Encoder ranker: 100%|████████| 2/2 [00:02<00:00,  1.43s/it]\n",
      "Encoder ranker: 100%|████████| 2/2 [00:02<00:00,  1.40s/it]\n"
     ]
    },
    {
     "data": {
      "text/plain": [
       "Lunr retriever\n",
       "\tkey      : id\n",
       "\ton       : title, article\n",
       "\tdocuments: 105\n",
       "Intersection\n",
       "-----\n",
       "Encoder ranker\n",
       "\tkey       : id\n",
       "\ton        : title, article\n",
       "\tnormalize : True\n",
       "\tembeddings: 105\n",
       "Encoder ranker\n",
       "\tkey       : id\n",
       "\ton        : title, article\n",
       "\tnormalize : True\n",
       "\tembeddings: 105\n",
       "-----"
      ]
     },
     "execution_count": 12,
     "metadata": {},
     "output_type": "execute_result"
    }
   ],
   "source": [
    "search = retriever + ranker\n",
    "search.add(documents)"
   ]
  },
  {
   "cell_type": "code",
   "execution_count": 13,
   "metadata": {},
   "outputs": [
    {
     "data": {
      "text/plain": [
       "[{'id': 20, 'similarity': 2.0588235294117645},\n",
       " {'id': 24, 'similarity': 1.0571428571428572},\n",
       " {'id': 16, 'similarity': 0.7207207207207207},\n",
       " {'id': 21, 'similarity': 0.5555555555555556},\n",
       " {'id': 22, 'similarity': 0.45263157894736844},\n",
       " {'id': 1, 'similarity': 0.3833333333333333},\n",
       " {'id': 0, 'similarity': 0.33699633699633696},\n",
       " {'id': 2, 'similarity': 0.2965116279069767},\n",
       " {'id': 25, 'similarity': 0.261437908496732},\n",
       " {'id': 6, 'similarity': 0.24878048780487805},\n",
       " {'id': 3, 'similarity': 0.22529644268774704},\n",
       " {'id': 23, 'similarity': 0.2074829931972789},\n",
       " {'id': 14, 'similarity': 0.1982905982905983},\n",
       " {'id': 7, 'similarity': 0.18541033434650456},\n",
       " {'id': 8, 'similarity': 0.18095238095238095},\n",
       " {'id': 42, 'similarity': 0.16346153846153846},\n",
       " {'id': 32, 'similarity': 0.15931372549019607},\n",
       " {'id': 17, 'similarity': 0.14747474747474748},\n",
       " {'id': 9, 'similarity': 0.1429990069513406},\n",
       " {'id': 27, 'similarity': 0.13703703703703704},\n",
       " {'id': 13, 'similarity': 0.13523809523809524},\n",
       " {'id': 12, 'similarity': 0.12599681020733652},\n",
       " {'id': 15, 'similarity': 0.12143928035982009},\n",
       " {'id': 5, 'similarity': 0.11666666666666667},\n",
       " {'id': 70, 'similarity': 0.11174603174603175},\n",
       " {'id': 10, 'similarity': 0.1076923076923077},\n",
       " {'id': 19, 'similarity': 0.11952861952861953},\n",
       " {'id': 94, 'similarity': 0.10267857142857142},\n",
       " {'id': 11, 'similarity': 0.10122358175750834},\n",
       " {'id': 4, 'similarity': 0.09696969696969697},\n",
       " {'id': 59, 'similarity': 0.09730301427815971},\n",
       " {'id': 28, 'similarity': 0.09639830508474576},\n",
       " {'id': 18, 'similarity': 0.09632034632034632}]"
      ]
     },
     "execution_count": 13,
     "metadata": {},
     "output_type": "execute_result"
    }
   ],
   "source": [
    "search(\"Paris football\")"
   ]
  },
  {
   "cell_type": "code",
   "execution_count": 14,
   "metadata": {},
   "outputs": [
    {
     "data": {
      "text/plain": [
       "[{'id': 52, 'similarity': 2.1},\n",
       " {'id': 49, 'similarity': 1.0909090909090908},\n",
       " {'id': 56, 'similarity': 0.7619047619047619},\n",
       " {'id': 45, 'similarity': 0.58},\n",
       " {'id': 48, 'similarity': 0.48695652173913045},\n",
       " {'id': 41, 'similarity': 0.41025641025641024},\n",
       " {'id': 54, 'similarity': 0.3482142857142857},\n",
       " {'id': 47, 'similarity': 0.32407407407407407},\n",
       " {'id': 50, 'similarity': 0.28888888888888886},\n",
       " {'id': 53, 'similarity': 0.2689655172413793},\n",
       " {'id': 42, 'similarity': 0.26515151515151514},\n",
       " {'id': 51, 'similarity': 0.2238095238095238},\n",
       " {'id': 46, 'similarity': 0.21266968325791857},\n",
       " {'id': 55, 'similarity': 0.20346320346320346},\n",
       " {'id': 44, 'similarity': 0.1978494623655914},\n",
       " {'id': 43, 'similarity': 0.19642857142857142},\n",
       " {'id': 32, 'similarity': 0.17027863777089783},\n",
       " {'id': 28, 'similarity': 0.16666666666666666},\n",
       " {'id': 59, 'similarity': 0.1593172119487909}]"
      ]
     },
     "execution_count": 14,
     "metadata": {},
     "output_type": "execute_result"
    }
   ],
   "source": [
    "search(\"speciality Lyon\")"
   ]
  },
  {
   "cell_type": "markdown",
   "metadata": {},
   "source": [
    "We can automatically map document identifiers to their content."
   ]
  },
  {
   "cell_type": "code",
   "execution_count": 15,
   "metadata": {},
   "outputs": [],
   "source": [
    "search += documents"
   ]
  },
  {
   "cell_type": "code",
   "execution_count": 16,
   "metadata": {},
   "outputs": [
    {
     "data": {
      "text/plain": [
       "[{'id': 20,\n",
       "  'title': 'Paris',\n",
       "  'url': 'https://en.wikipedia.org/wiki/Paris',\n",
       "  'article': 'The football club Paris Saint-Germain and the rugby union club Stade Français are based in Paris.',\n",
       "  'similarity': 2.0588235294117645},\n",
       " {'id': 24,\n",
       "  'title': 'Paris',\n",
       "  'url': 'https://en.wikipedia.org/wiki/Paris',\n",
       "  'article': 'The 1938 and 1998 FIFA World Cups, the 2007 Rugby World Cup, as well as the 1960, 1984 and 2016 UEFA European Championships were also held in the city.',\n",
       "  'similarity': 1.0571428571428572},\n",
       " {'id': 16,\n",
       "  'title': 'Paris',\n",
       "  'url': 'https://en.wikipedia.org/wiki/Paris',\n",
       "  'article': 'Paris received 12.',\n",
       "  'similarity': 0.7207207207207207},\n",
       " {'id': 21,\n",
       "  'title': 'Paris',\n",
       "  'url': 'https://en.wikipedia.org/wiki/Paris',\n",
       "  'article': 'The 80,000-seat Stade de France, built for the 1998 FIFA World Cup, is located just north of Paris in the neighbouring commune of Saint-Denis.',\n",
       "  'similarity': 0.5555555555555556},\n",
       " {'id': 22,\n",
       "  'title': 'Paris',\n",
       "  'url': 'https://en.wikipedia.org/wiki/Paris',\n",
       "  'article': 'Paris hosts the annual French Open Grand Slam tennis tournament on the red clay of Roland Garros.',\n",
       "  'similarity': 0.45263157894736844},\n",
       " {'id': 1,\n",
       "  'title': 'Paris',\n",
       "  'url': 'https://en.wikipedia.org/wiki/Paris',\n",
       "  'article': \"Since the 17th century, Paris has been one of Europe's major centres of finance, diplomacy, commerce, fashion, gastronomy, science, and arts.\",\n",
       "  'similarity': 0.3833333333333333},\n",
       " {'id': 0,\n",
       "  'title': 'Paris',\n",
       "  'url': 'https://en.wikipedia.org/wiki/Paris',\n",
       "  'article': 'Paris (French pronunciation: \\u200b[paʁi] (listen)) is the capital and most populous city of France, with an estimated population of 2,175,601 residents as of 2018, in an area of more than 105 square kilometres (41 square miles).',\n",
       "  'similarity': 0.33699633699633696},\n",
       " {'id': 2,\n",
       "  'title': 'Paris',\n",
       "  'url': 'https://en.wikipedia.org/wiki/Paris',\n",
       "  'article': 'The City of Paris is the centre and seat of government of the region and province of Île-de-France, or Paris Region, which has an estimated population of 12,174,880, or about 18 percent of the population of France as of 2017.',\n",
       "  'similarity': 0.2965116279069767},\n",
       " {'id': 25,\n",
       "  'title': 'Paris',\n",
       "  'url': 'https://en.wikipedia.org/wiki/Paris',\n",
       "  'article': 'Every July, the Tour de France bicycle race finishes on the Avenue des Champs-Élysées in Paris.',\n",
       "  'similarity': 0.261437908496732},\n",
       " {'id': 6,\n",
       "  'title': 'Paris',\n",
       "  'url': 'https://en.wikipedia.org/wiki/Paris',\n",
       "  'article': 'Paris is a major railway, highway, and air-transport hub served by two international airports: Paris–Charles de Gaulle (the second-busiest airport in Europe) and Paris–Orly.',\n",
       "  'similarity': 0.24878048780487805},\n",
       " {'id': 3,\n",
       "  'title': 'Paris',\n",
       "  'url': 'https://en.wikipedia.org/wiki/Paris',\n",
       "  'article': 'The Paris Region had a GDP of €709 billion ($808 billion) in 2017.',\n",
       "  'similarity': 0.22529644268774704},\n",
       " {'id': 23,\n",
       "  'title': 'Paris',\n",
       "  'url': 'https://en.wikipedia.org/wiki/Paris',\n",
       "  'article': 'The city hosted the Olympic Games in 1900, 1924 and will host the 2024 Summer Olympics.',\n",
       "  'similarity': 0.2074829931972789},\n",
       " {'id': 14,\n",
       "  'title': 'Paris',\n",
       "  'url': 'https://en.wikipedia.org/wiki/Paris',\n",
       "  'article': 'The historical district along the Seine in the city centre has been classified as a UNESCO World Heritage Site since 1991; popular landmarks there include the Cathedral of Notre Dame de Paris on the Île de la Cité, now closed for renovation after the 15 April 2019 fire.',\n",
       "  'similarity': 0.1982905982905983},\n",
       " {'id': 7,\n",
       "  'title': 'Paris',\n",
       "  'url': 'https://en.wikipedia.org/wiki/Paris',\n",
       "  'article': \"Opened in 1900, the city's subway system, the Paris Métro, serves 5.\",\n",
       "  'similarity': 0.18541033434650456},\n",
       " {'id': 8,\n",
       "  'title': 'Paris',\n",
       "  'url': 'https://en.wikipedia.org/wiki/Paris',\n",
       "  'article': '23 million passengers daily; it is the second-busiest metro system in Europe after the Moscow Metro.',\n",
       "  'similarity': 0.18095238095238095},\n",
       " {'id': 42,\n",
       "  'title': 'Lyon',\n",
       "  'url': 'https://en.wikipedia.org/wiki/Lyon',\n",
       "  'article': 'It is located at the confluence of the rivers Rhône and Saône, about 470 km (292 mi) southeast of Paris, 320 km (199 mi) north of Marseille and 56 km (35 mi) northeast of Saint-Étienne.',\n",
       "  'similarity': 0.16346153846153846},\n",
       " {'id': 32,\n",
       "  'title': 'Toulouse',\n",
       "  'url': 'https://en.wikipedia.org/wiki/Toulouse',\n",
       "  'article': 'The University of Toulouse is one of the oldest in Europe (founded in 1229) and, with more than 103,000 students, it is the fourth-largest university campus in France, after the universities of Paris, Lyon and Lille.',\n",
       "  'similarity': 0.15931372549019607},\n",
       " {'id': 17,\n",
       "  'title': 'Paris',\n",
       "  'url': 'https://en.wikipedia.org/wiki/Paris',\n",
       "  'article': '6 million visitors in 2020, measured by hotel stays, a drop of 73 percent from 2019, due to the COVID-19 virus.',\n",
       "  'similarity': 0.14747474747474748},\n",
       " {'id': 9,\n",
       "  'title': 'Paris',\n",
       "  'url': 'https://en.wikipedia.org/wiki/Paris',\n",
       "  'article': 'Gare du Nord is the 24th-busiest railway station in the world, but the busiest located outside Japan, with 262 million passengers in 2015.',\n",
       "  'similarity': 0.1429990069513406},\n",
       " {'id': 27,\n",
       "  'title': 'Toulouse',\n",
       "  'url': 'https://en.wikipedia.org/wiki/Toulouse',\n",
       "  'article': 'The city is on the banks of the River Garonne, 150 kilometres (93 miles) from the Mediterranean Sea, 230 km (143 mi) from the Atlantic Ocean and 680 km (420 mi) from Paris.',\n",
       "  'similarity': 0.13703703703703704},\n",
       " {'id': 13,\n",
       "  'title': 'Paris',\n",
       "  'url': 'https://en.wikipedia.org/wiki/Paris',\n",
       "  'article': 'The Musée Rodin and Musée Picasso exhibit the works of two noted Parisians.',\n",
       "  'similarity': 0.13523809523809524},\n",
       " {'id': 12,\n",
       "  'title': 'Paris',\n",
       "  'url': 'https://en.wikipedia.org/wiki/Paris',\n",
       "  'article': \"The Pompidou Centre Musée National d'Art Moderne has the largest collection of modern and contemporary art in Europe.\",\n",
       "  'similarity': 0.12599681020733652},\n",
       " {'id': 15,\n",
       "  'title': 'Paris',\n",
       "  'url': 'https://en.wikipedia.org/wiki/Paris',\n",
       "  'article': 'Other popular tourist sites include the Gothic royal chapel of Sainte-Chapelle, also on the Île de la Cité; the Eiffel Tower, constructed for the Paris Universal Exposition of 1889; the Grand Palais and Petit Palais, built for the Paris Universal Exposition of 1900; the Arc de Triomphe on the Champs-Élysées, and the hill of Montmartre with its artistic history and its Basilica of Sacré-Coeur.',\n",
       "  'similarity': 0.12143928035982009},\n",
       " {'id': 5,\n",
       "  'title': 'Paris',\n",
       "  'url': 'https://en.wikipedia.org/wiki/Paris',\n",
       "  'article': 'Another source ranked Paris as most expensive, on par with Singapore and Hong Kong, in 2018.',\n",
       "  'similarity': 0.11666666666666667},\n",
       " {'id': 70,\n",
       "  'title': 'Bordeaux',\n",
       "  'url': 'https://en.wikipedia.org/wiki/Bordeaux',\n",
       "  'article': 'Bordeaux is an international tourist destination for its architectural and cultural heritage with more than 350 historic monuments, making it, after Paris, the city with the most listed or registered monuments in France.',\n",
       "  'similarity': 0.11174603174603175},\n",
       " {'id': 10,\n",
       "  'title': 'Paris',\n",
       "  'url': 'https://en.wikipedia.org/wiki/Paris',\n",
       "  'article': 'Paris is especially known for its museums and architectural landmarks: the Louvre remained the most-visited museum in the world with  2,677,504 visitors in 2020, despite the long museum closings caused by the COVID-19 virus.',\n",
       "  'similarity': 0.1076923076923077},\n",
       " {'id': 19,\n",
       "  'title': 'Paris',\n",
       "  'url': 'https://en.wikipedia.org/wiki/Paris',\n",
       "  'article': 'Museums re-opened in 2021, with limitations on the number of visitors at a time and a requirement that visitors wear masks.',\n",
       "  'similarity': 0.11952861952861953},\n",
       " {'id': 94,\n",
       "  'title': 'Montreal',\n",
       "  'url': 'https://en.wikipedia.org/wiki/Montreal',\n",
       "  'article': 'Montreal is the second-largest primarily French-speaking city in the developed world, after Paris.',\n",
       "  'similarity': 0.10267857142857142},\n",
       " {'id': 11,\n",
       "  'title': 'Paris',\n",
       "  'url': 'https://en.wikipedia.org/wiki/Paris',\n",
       "  'article': \"The Musée d'Orsay, Musée Marmottan Monet and Musée de l'Orangerie are noted for their collections of French Impressionist art.\",\n",
       "  'similarity': 0.10122358175750834},\n",
       " {'id': 4,\n",
       "  'title': 'Paris',\n",
       "  'url': 'https://en.wikipedia.org/wiki/Paris',\n",
       "  'article': 'According to the Economist Intelligence Unit Worldwide Cost of Living Survey in 2018, Paris was the second most expensive city in the world, after Singapore and ahead of Zürich, Hong Kong, Oslo, and Geneva.',\n",
       "  'similarity': 0.09696969696969697},\n",
       " {'id': 59,\n",
       "  'title': 'Bordeaux',\n",
       "  'url': 'https://en.wikipedia.org/wiki/Bordeaux',\n",
       "  'article': 'Bordeaux is the centre of Bordeaux Métropole that has a population of 796,273 (2019), the sixth-largest in France after Paris, Lyon, Marseille, Toulouse and Lille with its immediate suburbs and closest satellite towns.',\n",
       "  'similarity': 0.09730301427815971},\n",
       " {'id': 28,\n",
       "  'title': 'Toulouse',\n",
       "  'url': 'https://en.wikipedia.org/wiki/Toulouse',\n",
       "  'article': 'It is the fourth-largest commune in France, with 479,553 inhabitants within its municipal boundaries (as of January 2017), after Paris, Marseille and Lyon, ahead of Nice; it has a population of 1,360,829 within its wider metropolitan area (also as of January 2017).',\n",
       "  'similarity': 0.09639830508474576},\n",
       " {'id': 18,\n",
       "  'title': 'Paris',\n",
       "  'url': 'https://en.wikipedia.org/wiki/Paris',\n",
       "  'article': 'The number of foreign visitors declined by 80.',\n",
       "  'similarity': 0.09632034632034632}]"
      ]
     },
     "execution_count": 16,
     "metadata": {},
     "output_type": "execute_result"
    }
   ],
   "source": [
    "search(\"Paris football\")"
   ]
  },
  {
   "cell_type": "code",
   "execution_count": 17,
   "metadata": {},
   "outputs": [
    {
     "data": {
      "text/plain": [
       "[{'id': 52,\n",
       "  'title': 'Lyon',\n",
       "  'url': 'https://en.wikipedia.org/wiki/Lyon',\n",
       "  'article': 'Economically, Lyon is a major centre for banking, as well as for the chemical, pharmaceutical and biotech industries.',\n",
       "  'similarity': 2.1},\n",
       " {'id': 49,\n",
       "  'title': 'Lyon',\n",
       "  'url': 'https://en.wikipedia.org/wiki/Lyon',\n",
       "  'article': 'Lyon was historically an important area for the production and weaving of silk.',\n",
       "  'similarity': 1.0909090909090908},\n",
       " {'id': 56,\n",
       "  'title': 'Lyon',\n",
       "  'url': 'https://en.wikipedia.org/wiki/Lyon',\n",
       "  'article': \"It ranked second in France and 40th globally in Mercer's 2019 liveability rankings.\",\n",
       "  'similarity': 0.7619047619047619},\n",
       " {'id': 45,\n",
       "  'title': 'Lyon',\n",
       "  'url': 'https://en.wikipedia.org/wiki/Lyon',\n",
       "  'article': 'Lyon is the prefecture of the Auvergne-Rhône-Alpes region and seat of the Departmental Council of Rhône (whose jurisdiction, however, no longer extends over the Metropolis of Lyon since 2015).',\n",
       "  'similarity': 0.58},\n",
       " {'id': 48,\n",
       "  'title': 'Lyon',\n",
       "  'url': 'https://en.wikipedia.org/wiki/Lyon',\n",
       "  'article': \"The city is recognised for its cuisine and gastronomy, as well as historical and architectural landmarks; as such, the districts of Old Lyon, the Fourvière hill, the Presqu'île and the slopes of the Croix-Rousse are inscribed on the UNESCO World Heritage List.\",\n",
       "  'similarity': 0.48695652173913045},\n",
       " {'id': 41,\n",
       "  'title': 'Lyon',\n",
       "  'url': 'https://en.wikipedia.org/wiki/Lyon',\n",
       "  'article': 'Lyon or Lyons (UK: , US: , French: [ljɔ̃] (listen); Arpitan: Liyon, pronounced [ʎjɔ̃]) is the third-largest city and second-largest urban area of France.',\n",
       "  'similarity': 0.41025641025641024},\n",
       " {'id': 54,\n",
       "  'title': 'Lyon',\n",
       "  'url': 'https://en.wikipedia.org/wiki/Lyon',\n",
       "  'article': 'Lyon hosts the international headquarters of Interpol, the International Agency for Research on Cancer, as well as Euronews.',\n",
       "  'similarity': 0.3482142857142857},\n",
       " {'id': 47,\n",
       "  'title': 'Lyon',\n",
       "  'url': 'https://en.wikipedia.org/wiki/Lyon',\n",
       "  'article': 'Lyon became a major economic hub during the Renaissance.',\n",
       "  'similarity': 0.32407407407407407},\n",
       " {'id': 50,\n",
       "  'title': 'Lyon',\n",
       "  'url': 'https://en.wikipedia.org/wiki/Lyon',\n",
       "  'article': 'Lyon played a significant role in the history of cinema: it is where Auguste and Louis Lumière invented the cinematograph.',\n",
       "  'similarity': 0.28888888888888886},\n",
       " {'id': 53,\n",
       "  'title': 'Lyon',\n",
       "  'url': 'https://en.wikipedia.org/wiki/Lyon',\n",
       "  'article': 'The city contains a significant software industry with a particular focus on video games; in recent years it has fostered a growing local start-up sector.',\n",
       "  'similarity': 0.2689655172413793},\n",
       " {'id': 42,\n",
       "  'title': 'Lyon',\n",
       "  'url': 'https://en.wikipedia.org/wiki/Lyon',\n",
       "  'article': 'It is located at the confluence of the rivers Rhône and Saône, about 470 km (292 mi) southeast of Paris, 320 km (199 mi) north of Marseille and 56 km (35 mi) northeast of Saint-Étienne.',\n",
       "  'similarity': 0.26515151515151514},\n",
       " {'id': 51,\n",
       "  'title': 'Lyon',\n",
       "  'url': 'https://en.wikipedia.org/wiki/Lyon',\n",
       "  'article': 'It is also known for its light festival, the Fête des Lumières, which begins every 8 December and lasts for four days, earning Lyon the title of \"Capital of Lights\".',\n",
       "  'similarity': 0.2238095238095238},\n",
       " {'id': 46,\n",
       "  'title': 'Lyon',\n",
       "  'url': 'https://en.wikipedia.org/wiki/Lyon',\n",
       "  'article': 'Former capital of the Gauls at the time of the Roman Empire, Lyon is the seat of an archbishopric whose holder bears the title of Primate of the Gauls.',\n",
       "  'similarity': 0.21266968325791857},\n",
       " {'id': 55,\n",
       "  'title': 'Lyon',\n",
       "  'url': 'https://en.wikipedia.org/wiki/Lyon',\n",
       "  'article': 'According to the Globalization and World Rankings Research Institute, Lyon is considered a Beta city, as of 2018.',\n",
       "  'similarity': 0.20346320346320346},\n",
       " {'id': 44,\n",
       "  'title': 'Lyon',\n",
       "  'url': 'https://en.wikipedia.org/wiki/Lyon',\n",
       "  'article': 'Lyon and 58 suburban municipalities have formed since 2015 the Metropolis of Lyon, a directly elected metropolitan authority now in charge of most urban issues, with a population of 1,385,927 in 2017.',\n",
       "  'similarity': 0.1978494623655914},\n",
       " {'id': 43,\n",
       "  'title': 'Lyon',\n",
       "  'url': 'https://en.wikipedia.org/wiki/Lyon',\n",
       "  'article': 'The City of Lyon proper had a population of 516,092 in 2017 within its small municipal territory of 48 km2 (19 sq mi), but together with its suburbs and exurbs the Lyon metropolitan area had a population of 2,323,221 that same year, the second-most populated in France.',\n",
       "  'similarity': 0.19642857142857142},\n",
       " {'id': 32,\n",
       "  'title': 'Toulouse',\n",
       "  'url': 'https://en.wikipedia.org/wiki/Toulouse',\n",
       "  'article': 'The University of Toulouse is one of the oldest in Europe (founded in 1229) and, with more than 103,000 students, it is the fourth-largest university campus in France, after the universities of Paris, Lyon and Lille.',\n",
       "  'similarity': 0.17027863777089783},\n",
       " {'id': 28,\n",
       "  'title': 'Toulouse',\n",
       "  'url': 'https://en.wikipedia.org/wiki/Toulouse',\n",
       "  'article': 'It is the fourth-largest commune in France, with 479,553 inhabitants within its municipal boundaries (as of January 2017), after Paris, Marseille and Lyon, ahead of Nice; it has a population of 1,360,829 within its wider metropolitan area (also as of January 2017).',\n",
       "  'similarity': 0.16666666666666666},\n",
       " {'id': 59,\n",
       "  'title': 'Bordeaux',\n",
       "  'url': 'https://en.wikipedia.org/wiki/Bordeaux',\n",
       "  'article': 'Bordeaux is the centre of Bordeaux Métropole that has a population of 796,273 (2019), the sixth-largest in France after Paris, Lyon, Marseille, Toulouse and Lille with its immediate suburbs and closest satellite towns.',\n",
       "  'similarity': 0.1593172119487909}]"
      ]
     },
     "execution_count": 17,
     "metadata": {},
     "output_type": "execute_result"
    }
   ],
   "source": [
    "search(\"speciality Lyon\")"
   ]
  }
 ],
 "metadata": {
  "interpreter": {
   "hash": "7b170744ab9cf7446ed3e27cb2734f2273f9ffda6b52a7d603d13471f7231bb1"
  },
  "kernelspec": {
   "display_name": "Python 3 (ipykernel)",
   "language": "python",
   "name": "python3"
  },
  "language_info": {
   "codemirror_mode": {
    "name": "ipython",
    "version": 3
   },
   "file_extension": ".py",
   "mimetype": "text/x-python",
   "name": "python",
   "nbconvert_exporter": "python",
   "pygments_lexer": "ipython3",
   "version": "3.10.11"
  }
 },
 "nbformat": 4,
 "nbformat_minor": 2
}
