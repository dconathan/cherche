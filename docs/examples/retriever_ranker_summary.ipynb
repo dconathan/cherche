{
 "cells": [
  {
   "cell_type": "markdown",
   "metadata": {},
   "source": [
    "# Retriever, ranker and Summarization"
   ]
  },
  {
   "cell_type": "markdown",
   "metadata": {},
   "source": [
    "Here we build a summary pipeline. This pipeline will consist of a retriever, a ranker, and a summarizer. The retriever and the ranker will filter the input documents before summarizing the documents relevant to our query."
   ]
  },
  {
   "cell_type": "code",
   "execution_count": 1,
   "metadata": {},
   "outputs": [],
   "source": [
    "%load_ext autoreload\n",
    "%autoreload 2"
   ]
  },
  {
   "cell_type": "code",
   "execution_count": 2,
   "metadata": {},
   "outputs": [],
   "source": [
    "from cherche import data, rank, retrieve, summary\n",
    "from sentence_transformers import SentenceTransformer\n",
    "from transformers import pipeline"
   ]
  },
  {
   "cell_type": "markdown",
   "metadata": {},
   "source": [
    "We can use the `towns` corpus for this example, we can ask to summarize relevant documents for a given query."
   ]
  },
  {
   "cell_type": "code",
   "execution_count": 3,
   "metadata": {},
   "outputs": [
    {
     "data": {
      "text/plain": [
       "[{'id': 0,\n",
       "  'title': 'Paris',\n",
       "  'url': 'https://en.wikipedia.org/wiki/Paris',\n",
       "  'article': 'Paris (French pronunciation: \\u200b[paʁi] (listen)) is the capital and most populous city of France, with an estimated population of 2,175,601 residents as of 2018, in an area of more than 105 square kilometres (41 square miles).'},\n",
       " {'id': 1,\n",
       "  'title': 'Paris',\n",
       "  'url': 'https://en.wikipedia.org/wiki/Paris',\n",
       "  'article': \"Since the 17th century, Paris has been one of Europe's major centres of finance, diplomacy, commerce, fashion, gastronomy, science, and arts.\"},\n",
       " {'id': 2,\n",
       "  'title': 'Paris',\n",
       "  'url': 'https://en.wikipedia.org/wiki/Paris',\n",
       "  'article': 'The City of Paris is the centre and seat of government of the region and province of Île-de-France, or Paris Region, which has an estimated population of 12,174,880, or about 18 percent of the population of France as of 2017.'},\n",
       " {'id': 3,\n",
       "  'title': 'Paris',\n",
       "  'url': 'https://en.wikipedia.org/wiki/Paris',\n",
       "  'article': 'The Paris Region had a GDP of €709 billion ($808 billion) in 2017.'}]"
      ]
     },
     "execution_count": 3,
     "metadata": {},
     "output_type": "execute_result"
    }
   ],
   "source": [
    "documents = data.load_towns()\n",
    "documents[:4]"
   ]
  },
  {
   "cell_type": "markdown",
   "metadata": {},
   "source": [
    "We start by creating a retriever whose mission will be to quickly filter the documents. This retriever will find documents based on the title and content of the article using `on` parameter."
   ]
  },
  {
   "cell_type": "code",
   "execution_count": 4,
   "metadata": {},
   "outputs": [],
   "source": [
    "retriever = retrieve.TfIdf(key=\"id\", on=[\"title\", \"article\"], documents=documents, k=30)"
   ]
  },
  {
   "cell_type": "markdown",
   "metadata": {},
   "source": [
    "We then add a ranker to the pipeline to filter the results according to the semantic similarity between the query and the retrieved documents. \n",
    "similarity between the query and the retriever's output documents. The ranker will be based on the content of the article."
   ]
  },
  {
   "cell_type": "code",
   "execution_count": 5,
   "metadata": {},
   "outputs": [],
   "source": [
    "ranker = rank.Encoder(\n",
    "    key = \"id\",\n",
    "    on = [\"title\", \"article\"],\n",
    "    encoder = SentenceTransformer(\"sentence-transformers/all-mpnet-base-v2\").encode,\n",
    "    k = 5,\n",
    ")"
   ]
  },
  {
   "cell_type": "code",
   "execution_count": 6,
   "metadata": {},
   "outputs": [],
   "source": [
    "summarization = summary.Summary(\n",
    "    model = pipeline(\"summarization\", \n",
    "        model = \"sshleifer/distilbart-cnn-12-6\", \n",
    "        tokenizer = \"sshleifer/distilbart-cnn-12-6\", \n",
    "        framework = \"pt\"\n",
    "    ),\n",
    "    on = \"article\",\n",
    ")"
   ]
  },
  {
   "cell_type": "markdown",
   "metadata": {},
   "source": [
    "We initialize our pipeline. The `add` method asks the ranker to pre-compute the embeddings of each document. A GPU could speed up the process."
   ]
  },
  {
   "cell_type": "markdown",
   "metadata": {},
   "source": [
    "⚠️ When summarizing or doing questions answering, we need to match our index in output from the ranker to the set of documents. To do this, we add `documents` to our pipeline. This step is optional when using Elasticsearch, Meilisearch or TypeSense as a retriever."
   ]
  },
  {
   "cell_type": "code",
   "execution_count": 7,
   "metadata": {},
   "outputs": [
    {
     "name": "stderr",
     "output_type": "stream",
     "text": [
      "Ranker embeddings calculation.: 100%|█| 2/2 [00:02<00:\n"
     ]
    },
    {
     "data": {
      "text/plain": [
       "TfIdf retriever\n",
       " \t key: id\n",
       " \t on: title, article\n",
       " \t documents: 105\n",
       "Encoder ranker\n",
       "\t key: id\n",
       "\t on: title, article\n",
       "\t k: 5\n",
       "\t similarity: cosine\n",
       "\t Embeddings pre-computed: 105\n",
       "Mapping to documents\n",
       "Summarization model\n",
       "\t on: article\n",
       "\t min length: 5\n",
       "\t max length: 30"
      ]
     },
     "execution_count": 7,
     "metadata": {},
     "output_type": "execute_result"
    }
   ],
   "source": [
    "search = retriever + ranker + documents + summarization\n",
    "search.add(documents)"
   ]
  },
  {
   "cell_type": "markdown",
   "metadata": {},
   "source": [
    "Few examples of summarization:"
   ]
  },
  {
   "cell_type": "markdown",
   "metadata": {},
   "source": [
    "Bordeaux is a French city based in Gironde."
   ]
  },
  {
   "cell_type": "code",
   "execution_count": 8,
   "metadata": {},
   "outputs": [
    {
     "data": {
      "text/plain": [
       "'The \"Pearl of Aquitaine\" has been voted European Destination of the year in a 2015 online poll. Bordeaux is'"
      ]
     },
     "execution_count": 8,
     "metadata": {},
     "output_type": "execute_result"
    }
   ],
   "source": [
    "search(\"Bordeaux\")"
   ]
  },
  {
   "cell_type": "markdown",
   "metadata": {},
   "source": [
    "Toulouse is a French city based in Occitanie."
   ]
  },
  {
   "cell_type": "code",
   "execution_count": 9,
   "metadata": {},
   "outputs": [
    {
     "data": {
      "text/plain": [
       "'Toulouse is the prefecture of Haute-Garonne and of the larger region of Occitanie. It is the'"
      ]
     },
     "execution_count": 9,
     "metadata": {},
     "output_type": "execute_result"
    }
   ],
   "source": [
    "search(\"Toulouse\")"
   ]
  },
  {
   "cell_type": "markdown",
   "metadata": {},
   "source": [
    "Lyon is known for it's food."
   ]
  },
  {
   "cell_type": "code",
   "execution_count": 10,
   "metadata": {},
   "outputs": [
    {
     "data": {
      "text/plain": [
       "'Lyon is the third-largest city and second-largest urban area of France. The city is recognised for its cuisine and gastronomy'"
      ]
     },
     "execution_count": 10,
     "metadata": {},
     "output_type": "execute_result"
    }
   ],
   "source": [
    "search(\"Lyon food\")"
   ]
  }
 ],
 "metadata": {
  "interpreter": {
   "hash": "7b170744ab9cf7446ed3e27cb2734f2273f9ffda6b52a7d603d13471f7231bb1"
  },
  "kernelspec": {
   "display_name": "Python 3 (ipykernel)",
   "language": "python",
   "name": "python3"
  },
  "language_info": {
   "codemirror_mode": {
    "name": "ipython",
    "version": 3
   },
   "file_extension": ".py",
   "mimetype": "text/x-python",
   "name": "python",
   "nbconvert_exporter": "python",
   "pygments_lexer": "ipython3",
   "version": "3.9.13"
  }
 },
 "nbformat": 4,
 "nbformat_minor": 2
}
