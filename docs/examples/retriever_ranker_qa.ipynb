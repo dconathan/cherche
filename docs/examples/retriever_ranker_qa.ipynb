{
 "cells": [
  {
   "cell_type": "markdown",
   "metadata": {},
   "source": [
    "# Retriever, ranker, question answering"
   ]
  },
  {
   "cell_type": "markdown",
   "metadata": {},
   "source": [
    "The objective of this notebook is to build a simple pipeline to perform the extractive question answering task. Here we build a pipeline with a retriever, a ranker, and a question-answering model. The retriever acts as the first filter in this architecture. The ranker filters the documents a second time based on the semantic similarity between the documents and the question. Finally, we will use a question answering model to extract the answer to the question using filtered documents. \n",
    "\n",
    "The model of extractive question answering is slow, even when filtering documents. Therefore, it would make sense to use a GPU for this type of pipeline using QA models."
   ]
  },
  {
   "cell_type": "code",
   "execution_count": 1,
   "metadata": {},
   "outputs": [],
   "source": [
    "%load_ext autoreload\n",
    "%autoreload 2"
   ]
  },
  {
   "cell_type": "code",
   "execution_count": 2,
   "metadata": {},
   "outputs": [],
   "source": [
    "from cherche import data, rank, retrieve, qa\n",
    "from sentence_transformers import SentenceTransformer\n",
    "from transformers import pipeline"
   ]
  },
  {
   "cell_type": "markdown",
   "metadata": {},
   "source": [
    "We can use the `towns` corpus for this example: we can ask questions about the cities of Bordeaux, Toulouse, Paris and Lyon."
   ]
  },
  {
   "cell_type": "code",
   "execution_count": 3,
   "metadata": {},
   "outputs": [
    {
     "data": {
      "text/plain": [
       "[{'id': 0,\n",
       "  'title': 'Paris',\n",
       "  'url': 'https://en.wikipedia.org/wiki/Paris',\n",
       "  'article': 'Paris (French pronunciation: \\u200b[paʁi] (listen)) is the capital and most populous city of France, with an estimated population of 2,175,601 residents as of 2018, in an area of more than 105 square kilometres (41 square miles).'},\n",
       " {'id': 1,\n",
       "  'title': 'Paris',\n",
       "  'url': 'https://en.wikipedia.org/wiki/Paris',\n",
       "  'article': \"Since the 17th century, Paris has been one of Europe's major centres of finance, diplomacy, commerce, fashion, gastronomy, science, and arts.\"},\n",
       " {'id': 2,\n",
       "  'title': 'Paris',\n",
       "  'url': 'https://en.wikipedia.org/wiki/Paris',\n",
       "  'article': 'The City of Paris is the centre and seat of government of the region and province of Île-de-France, or Paris Region, which has an estimated population of 12,174,880, or about 18 percent of the population of France as of 2017.'},\n",
       " {'id': 3,\n",
       "  'title': 'Paris',\n",
       "  'url': 'https://en.wikipedia.org/wiki/Paris',\n",
       "  'article': 'The Paris Region had a GDP of €709 billion ($808 billion) in 2017.'}]"
      ]
     },
     "execution_count": 3,
     "metadata": {},
     "output_type": "execute_result"
    }
   ],
   "source": [
    "documents = data.load_towns()\n",
    "documents[:4]"
   ]
  },
  {
   "cell_type": "markdown",
   "metadata": {},
   "source": [
    "We start by creating a retriever whose mission will be to quickly filter the documents. This retriever will find documents based on the title and content of the article using `on` parameter."
   ]
  },
  {
   "cell_type": "code",
   "execution_count": 4,
   "metadata": {},
   "outputs": [],
   "source": [
    "retriever = retrieve.TfIdf(key=\"id\", on=[\"title\", \"article\"], documents=documents, k = 30)"
   ]
  },
  {
   "cell_type": "markdown",
   "metadata": {},
   "source": [
    "We then add a ranker to the pipeline to filter the results according to the semantic similarity between the query and the retrieved documents. \n",
    "similarity between the query and the retriever's output documents. The ranker will be based on the content of the article."
   ]
  },
  {
   "cell_type": "code",
   "execution_count": 5,
   "metadata": {},
   "outputs": [],
   "source": [
    "ranker = rank.Encoder(\n",
    "    key = \"id\",\n",
    "    on = [\"title\", \"article\"],\n",
    "    encoder = SentenceTransformer(\"sentence-transformers/all-mpnet-base-v2\").encode,\n",
    "    k = 3,\n",
    "    path = \"encoder.pkl\"\n",
    ")"
   ]
  },
  {
   "cell_type": "code",
   "execution_count": 6,
   "metadata": {},
   "outputs": [],
   "source": [
    "question_answering = qa.QA(\n",
    "    model = pipeline(\"question-answering\", \n",
    "        model = \"deepset/roberta-base-squad2\", \n",
    "        tokenizer = \"deepset/roberta-base-squad2\"\n",
    "    ),\n",
    "    on = \"article\",\n",
    ")"
   ]
  },
  {
   "cell_type": "markdown",
   "metadata": {},
   "source": [
    "We initialise the pipeline and ask the retrievers to index the documents and the ranker to pre-compute the document embeddings. This step can take some time if you have a lot of documents. A GPU could speed up the process. Embeddings of the ranker will be stored in the file `encoder.pkl`. Also the question answering model needs the documents fields and not only ids. To map ids to documents, we add the `documents` to our pipeline. "
   ]
  },
  {
   "cell_type": "code",
   "execution_count": 7,
   "metadata": {},
   "outputs": [
    {
     "data": {
      "text/plain": [
       "TfIdf retriever\n",
       " \t key: id\n",
       " \t on: title, article\n",
       " \t documents: 105\n",
       "Encoder ranker\n",
       "\t key: id\n",
       "\t on: title, article\n",
       "\t k: 3\n",
       "\t similarity: cosine\n",
       "\t embeddings stored at: encoder.pkl\n",
       "Mapping to documents\n",
       "Question Answering\n",
       "\t model: deepset/roberta-base-squad2\n",
       "\t on: article"
      ]
     },
     "execution_count": 7,
     "metadata": {},
     "output_type": "execute_result"
    }
   ],
   "source": [
    "search = retriever + ranker + documents + question_answering\n",
    "search.add(documents)"
   ]
  },
  {
   "cell_type": "markdown",
   "metadata": {},
   "source": [
    "Paris Saint Germain is the name of the biggest football team of Paris. The Question Answering Pipeline provides the ranking-related similarity score called `similarity` and the question answering task-related score `qa_score`. The higher the `qa_score` the more likely the answer is. The answers are sorted from the most likely to the least likely."
   ]
  },
  {
   "cell_type": "code",
   "execution_count": 8,
   "metadata": {},
   "outputs": [
    {
     "data": {
      "text/plain": [
       "[{'start': 18,\n",
       "  'end': 37,\n",
       "  'answer': 'Paris Saint-Germain',\n",
       "  'qa_score': 0.9848363399505615,\n",
       "  'id': 20,\n",
       "  'title': 'Paris',\n",
       "  'url': 'https://en.wikipedia.org/wiki/Paris',\n",
       "  'article': 'The football club Paris Saint-Germain and the rugby union club Stade Français are based in Paris.',\n",
       "  'similarity': 0.7104821},\n",
       " {'start': 16,\n",
       "  'end': 31,\n",
       "  'answer': 'Stade de France',\n",
       "  'qa_score': 0.8121964335441589,\n",
       "  'id': 21,\n",
       "  'title': 'Paris',\n",
       "  'url': 'https://en.wikipedia.org/wiki/Paris',\n",
       "  'article': 'The 80,000-seat Stade de France, built for the 1998 FIFA World Cup, is located just north of Paris in the neighbouring commune of Saint-Denis.',\n",
       "  'similarity': 0.461615},\n",
       " {'start': 15,\n",
       "  'end': 17,\n",
       "  'answer': '12',\n",
       "  'qa_score': 0.015906214714050293,\n",
       "  'id': 16,\n",
       "  'title': 'Paris',\n",
       "  'url': 'https://en.wikipedia.org/wiki/Paris',\n",
       "  'article': 'Paris received 12.',\n",
       "  'similarity': 0.46774143}]"
      ]
     },
     "execution_count": 8,
     "metadata": {},
     "output_type": "execute_result"
    }
   ],
   "source": [
    "search(\"What is the name of the football club of Paris?\")"
   ]
  },
  {
   "cell_type": "markdown",
   "metadata": {},
   "source": [
    "Toulouse in France is known as \"The Pink City\"."
   ]
  },
  {
   "cell_type": "code",
   "execution_count": 9,
   "metadata": {},
   "outputs": [
    {
     "data": {
      "text/plain": [
       "[{'start': 39,\n",
       "  'end': 46,\n",
       "  'answer': 'pinkish',\n",
       "  'qa_score': 0.525703489780426,\n",
       "  'id': 40,\n",
       "  'title': 'Toulouse',\n",
       "  'url': 'https://en.wikipedia.org/wiki/Toulouse',\n",
       "  'article': 'The city\\'s unique architecture made of pinkish terracotta bricks has earned Toulouse the nickname La Ville Rose (\"The Pink City\").',\n",
       "  'similarity': 0.64032906},\n",
       " {'start': 11,\n",
       "  'end': 35,\n",
       "  'answer': 'too-LOOZ, French: [tuluz',\n",
       "  'qa_score': 0.024280384182929993,\n",
       "  'id': 26,\n",
       "  'title': 'Toulouse',\n",
       "  'url': 'https://en.wikipedia.org/wiki/Toulouse',\n",
       "  'article': 'Toulouse ( too-LOOZ, French: [tuluz] (listen); Occitan: Tolosa [tuˈluzɔ]; Latin: Tolosa [tɔˈloːsa]) is the prefecture of the French department of Haute-Garonne and of the larger region of Occitanie.',\n",
       "  'similarity': 0.5757555},\n",
       " {'start': 29,\n",
       "  'end': 38,\n",
       "  'answer': 'Occitanie',\n",
       "  'qa_score': 0.00015604488726239651,\n",
       "  'id': 37,\n",
       "  'title': 'Toulouse',\n",
       "  'url': 'https://en.wikipedia.org/wiki/Toulouse',\n",
       "  'article': 'It is now the capital of the Occitanie region, the second largest region in Metropolitan France.',\n",
       "  'similarity': 0.5480469}]"
      ]
     },
     "execution_count": 9,
     "metadata": {},
     "output_type": "execute_result"
    }
   ],
   "source": [
    "search(\"What is the color of Toulouse?\")"
   ]
  },
  {
   "cell_type": "markdown",
   "metadata": {},
   "source": [
    "Bordeaux is known worldwide for its wine."
   ]
  },
  {
   "cell_type": "code",
   "execution_count": 10,
   "metadata": {},
   "outputs": [
    {
     "data": {
      "text/plain": [
       "[{'start': 31,\n",
       "  'end': 35,\n",
       "  'answer': 'wine',\n",
       "  'qa_score': 0.7739053964614868,\n",
       "  'id': 65,\n",
       "  'title': 'Bordeaux',\n",
       "  'url': 'https://en.wikipedia.org/wiki/Bordeaux',\n",
       "  'article': \"Bordeaux is a world capital of wine, with its castles and vineyards of the Bordeaux region that stand on the hillsides of the Gironde and is home to the world's main wine fair, Vinexpo.\",\n",
       "  'similarity': 0.64157605},\n",
       " {'start': 39,\n",
       "  'end': 49,\n",
       "  'answer': 'gastronomy',\n",
       "  'qa_score': 0.4390924870967865,\n",
       "  'id': 66,\n",
       "  'title': 'Bordeaux',\n",
       "  'url': 'https://en.wikipedia.org/wiki/Bordeaux',\n",
       "  'article': 'Bordeaux is also one of the centers of gastronomy and business tourism for the organization of international congresses.',\n",
       "  'similarity': 0.6372376},\n",
       " {'start': 85,\n",
       "  'end': 89,\n",
       "  'answer': 'port',\n",
       "  'qa_score': 0.3996890187263489,\n",
       "  'id': 57,\n",
       "  'title': 'Bordeaux',\n",
       "  'url': 'https://en.wikipedia.org/wiki/Bordeaux',\n",
       "  'article': 'Bordeaux ( bor-DOH, French: [bɔʁdo] (listen); Gascon Occitan: Bordèu [buɾˈðɛw]) is a port city on the river Garonne in the Gironde department, Southwestern France.',\n",
       "  'similarity': 0.6325316}]"
      ]
     },
     "execution_count": 10,
     "metadata": {},
     "output_type": "execute_result"
    }
   ],
   "source": [
    "search(\"What is the speciality of Bordeaux ?\")"
   ]
  },
  {
   "cell_type": "markdown",
   "metadata": {},
   "source": [
    "Every year there is a silk festival in Lyon."
   ]
  },
  {
   "cell_type": "code",
   "execution_count": 11,
   "metadata": {},
   "outputs": [
    {
     "data": {
      "text/plain": [
       "[{'start': 41,\n",
       "  'end': 48,\n",
       "  'answer': 'banking',\n",
       "  'qa_score': 0.6367459297180176,\n",
       "  'id': 52,\n",
       "  'title': 'Lyon',\n",
       "  'url': 'https://en.wikipedia.org/wiki/Lyon',\n",
       "  'article': 'Economically, Lyon is a major centre for banking, as well as for the chemical, pharmaceutical and biotech industries.',\n",
       "  'similarity': 0.6994299},\n",
       " {'start': 74,\n",
       "  'end': 78,\n",
       "  'answer': 'silk',\n",
       "  'qa_score': 0.3443596661090851,\n",
       "  'id': 49,\n",
       "  'title': 'Lyon',\n",
       "  'url': 'https://en.wikipedia.org/wiki/Lyon',\n",
       "  'article': 'Lyon was historically an important area for the production and weaving of silk.',\n",
       "  'similarity': 0.6723434},\n",
       " {'start': 20,\n",
       "  'end': 28,\n",
       "  'answer': 'economic',\n",
       "  'qa_score': 0.16321316361427307,\n",
       "  'id': 47,\n",
       "  'title': 'Lyon',\n",
       "  'url': 'https://en.wikipedia.org/wiki/Lyon',\n",
       "  'article': 'Lyon became a major economic hub during the Renaissance.',\n",
       "  'similarity': 0.6418801}]"
      ]
     },
     "execution_count": 11,
     "metadata": {},
     "output_type": "execute_result"
    }
   ],
   "source": [
    "search(\"What is the speciality of Lyon ?\")"
   ]
  },
  {
   "cell_type": "markdown",
   "metadata": {},
   "source": [
    "The retriever ranker pipeline is fast enough on cpu but the question answering model takes time."
   ]
  },
  {
   "cell_type": "code",
   "execution_count": 12,
   "metadata": {},
   "outputs": [
    {
     "name": "stdout",
     "output_type": "stream",
     "text": [
      "104 ms ± 2.26 ms per loop (mean ± std. dev. of 7 runs, 10 loops each)\n"
     ]
    }
   ],
   "source": [
    "%timeit (retriever + ranker)(\"What is the speciality of Lyon ?\")"
   ]
  },
  {
   "cell_type": "code",
   "execution_count": 13,
   "metadata": {},
   "outputs": [
    {
     "name": "stdout",
     "output_type": "stream",
     "text": [
      "634 ms ± 21.9 ms per loop (mean ± std. dev. of 7 runs, 1 loop each)\n"
     ]
    }
   ],
   "source": [
    "%timeit (retriever + ranker + documents + question_answering)(\"What is the speciality of Lyon ?\")"
   ]
  }
 ],
 "metadata": {
  "interpreter": {
   "hash": "7b170744ab9cf7446ed3e27cb2734f2273f9ffda6b52a7d603d13471f7231bb1"
  },
  "kernelspec": {
   "display_name": "Python 3",
   "language": "python",
   "name": "python3"
  },
  "language_info": {
   "codemirror_mode": {
    "name": "ipython",
    "version": 3
   },
   "file_extension": ".py",
   "mimetype": "text/x-python",
   "name": "python",
   "nbconvert_exporter": "python",
   "pygments_lexer": "ipython3",
   "version": "3.8.5"
  }
 },
 "nbformat": 4,
 "nbformat_minor": 2
}
