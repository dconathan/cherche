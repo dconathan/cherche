{
 "cells": [
  {
   "cell_type": "markdown",
   "metadata": {},
   "source": [
    "# Retriever and ranker"
   ]
  },
  {
   "cell_type": "markdown",
   "metadata": {},
   "source": [
    "This notebook present a simple neural search pipeline composed of two retrievers and a ranker."
   ]
  },
  {
   "cell_type": "code",
   "execution_count": 2,
   "metadata": {},
   "outputs": [],
   "source": [
    "from cherche import data, rank, retrieve, utils\n",
    "from sentence_transformers import SentenceTransformer"
   ]
  },
  {
   "cell_type": "markdown",
   "metadata": {},
   "source": [
    "The first step is to define the corpus on which we will perform the neural search. The towns dataset contains about a hundred documents. Each document has fours attributes, the `id`, the `title` of the article, the `url` and the content of the `article`."
   ]
  },
  {
   "cell_type": "code",
   "execution_count": 3,
   "metadata": {},
   "outputs": [
    {
     "data": {
      "text/plain": [
       "[{'id': 0,\n",
       "  'title': 'Paris',\n",
       "  'url': 'https://en.wikipedia.org/wiki/Paris',\n",
       "  'article': 'Paris (French pronunciation: \\u200b[paʁi] (listen)) is the capital and most populous city of France, with an estimated population of 2,175,601 residents as of 2018, in an area of more than 105 square kilometres (41 square miles).'},\n",
       " {'id': 1,\n",
       "  'title': 'Paris',\n",
       "  'url': 'https://en.wikipedia.org/wiki/Paris',\n",
       "  'article': \"Since the 17th century, Paris has been one of Europe's major centres of finance, diplomacy, commerce, fashion, gastronomy, science, and arts.\"},\n",
       " {'id': 2,\n",
       "  'title': 'Paris',\n",
       "  'url': 'https://en.wikipedia.org/wiki/Paris',\n",
       "  'article': 'The City of Paris is the centre and seat of government of the region and province of Île-de-France, or Paris Region, which has an estimated population of 12,174,880, or about 18 percent of the population of France as of 2017.'},\n",
       " {'id': 3,\n",
       "  'title': 'Paris',\n",
       "  'url': 'https://en.wikipedia.org/wiki/Paris',\n",
       "  'article': 'The Paris Region had a GDP of €709 billion ($808 billion) in 2017.'}]"
      ]
     },
     "execution_count": 3,
     "metadata": {},
     "output_type": "execute_result"
    }
   ],
   "source": [
    "documents = data.load_towns()\n",
    "documents[:4]"
   ]
  },
  {
   "cell_type": "markdown",
   "metadata": {},
   "source": [
    "We start by initiating a retriever whose mission will be to quickly filter the documents. This retriever will find documents based on the title and content of the article using the `on` parameter."
   ]
  },
  {
   "cell_type": "code",
   "execution_count": 4,
   "metadata": {},
   "outputs": [],
   "source": [
    "retriever = retrieve.TfIdf(key=\"id\", on=[\"title\", \"article\"], documents=documents)"
   ]
  },
  {
   "cell_type": "markdown",
   "metadata": {},
   "source": [
    "We then add a ranker to the pipeline to filter the results according to the semantic similarity between the query and the retrieved documents. \n",
    "similarity between the query and the retriever's output documents. The ranker will be based on the content of the article."
   ]
  },
  {
   "cell_type": "code",
   "execution_count": 5,
   "metadata": {},
   "outputs": [],
   "source": [
    "ranker = rank.Encoder(\n",
    "    key=\"id\",\n",
    "    on=[\"title\", \"article\"],\n",
    "    encoder=SentenceTransformer(\"sentence-transformers/all-mpnet-base-v2\").encode,\n",
    ")"
   ]
  },
  {
   "cell_type": "markdown",
   "metadata": {},
   "source": [
    "We initialise the pipeline and ask the retrievers to index the documents and the ranker to pre-compute the document embeddings. This step can take some time if you have a lot of documents. It can be interesting to use a GPU to pre-calculate all the embeddings if you have many documents. The embeddings will be stored in the `encoder.pkl` file."
   ]
  },
  {
   "cell_type": "code",
   "execution_count": 6,
   "metadata": {},
   "outputs": [
    {
     "name": "stderr",
     "output_type": "stream",
     "text": [
      "Encoder ranker: 100%|████████| 2/2 [00:02<00:00,  1.33s/it]\n"
     ]
    },
    {
     "data": {
      "text/plain": [
       "TfIdf retriever\n",
       "\tkey      : id\n",
       "\ton       : title, article\n",
       "\tdocuments: 105\n",
       "Encoder ranker\n",
       "\tkey       : id\n",
       "\ton        : title, article\n",
       "\tnormalize : True\n",
       "\tembeddings: 105"
      ]
     },
     "execution_count": 6,
     "metadata": {},
     "output_type": "execute_result"
    }
   ],
   "source": [
    "search = retriever + ranker\n",
    "search.add(documents)"
   ]
  },
  {
   "cell_type": "markdown",
   "metadata": {},
   "source": [
    "Let's call our model to retrieve documents related to football in Paris. The search pipeline provides a similarity score for each document. The documents are sorted in order of relevance, from most similar to least similar."
   ]
  },
  {
   "cell_type": "code",
   "execution_count": 7,
   "metadata": {},
   "outputs": [
    {
     "data": {
      "text/plain": [
       "[{'id': 20, 'similarity': 0.7220986},\n",
       " {'id': 16, 'similarity': 0.48418275},\n",
       " {'id': 21, 'similarity': 0.47666836},\n",
       " {'id': 56, 'similarity': 0.47011483},\n",
       " {'id': 22, 'similarity': 0.45666158},\n",
       " {'id': 1, 'similarity': 0.44948608},\n",
       " {'id': 0, 'similarity': 0.44595104},\n",
       " {'id': 2, 'similarity': 0.4206621},\n",
       " {'id': 25, 'similarity': 0.4146704},\n",
       " {'id': 6, 'similarity': 0.41367412},\n",
       " {'id': 3, 'similarity': 0.4131328},\n",
       " {'id': 23, 'similarity': 0.41079015},\n",
       " {'id': 14, 'similarity': 0.37518078},\n",
       " {'id': 51, 'similarity': 0.37361926},\n",
       " {'id': 7, 'similarity': 0.37052304},\n",
       " {'id': 8, 'similarity': 0.36798736},\n",
       " {'id': 17, 'similarity': 0.35948235},\n",
       " {'id': 9, 'similarity': 0.34356856},\n",
       " {'id': 13, 'similarity': 0.33688956},\n",
       " {'id': 12, 'similarity': 0.31458178},\n",
       " {'id': 15, 'similarity': 0.3111611},\n",
       " {'id': 53, 'similarity': 0.30873594},\n",
       " {'id': 5, 'similarity': 0.30330563},\n",
       " {'id': 52, 'similarity': 0.30239156},\n",
       " {'id': 10, 'similarity': 0.2945645},\n",
       " {'id': 19, 'similarity': 0.2915255},\n",
       " {'id': 94, 'similarity': 0.28307498},\n",
       " {'id': 11, 'similarity': 0.27992725},\n",
       " {'id': 4, 'similarity': 0.276568},\n",
       " {'id': 18, 'similarity': 0.20204495}]"
      ]
     },
     "execution_count": 7,
     "metadata": {},
     "output_type": "execute_result"
    }
   ],
   "source": [
    "search(\"paris football\", k=30)"
   ]
  },
  {
   "cell_type": "markdown",
   "metadata": {},
   "source": [
    "The retriever we use is a bit too basic, the word aerospace appears in the corpus but aero does not. We are therefore unable to retrieve relevant documents for the query aero."
   ]
  },
  {
   "cell_type": "code",
   "execution_count": 8,
   "metadata": {},
   "outputs": [
    {
     "data": {
      "text/plain": [
       "[{'id': 67, 'similarity': 0.32282117},\n",
       " {'id': 29, 'similarity': 0.30668122},\n",
       " {'id': 31, 'similarity': 0.2690589},\n",
       " {'id': 96, 'similarity': 0.027692636}]"
      ]
     },
     "execution_count": 8,
     "metadata": {},
     "output_type": "execute_result"
    }
   ],
   "source": [
    "search(\"aero\", k=30)  # Aerospace"
   ]
  },
  {
   "cell_type": "markdown",
   "metadata": {},
   "source": [
    "We can improve the retrieval by processing sub-units of words using the `ngram_range` parameter of the `TfidfVectorizer` model. This update to the retriever will reduce its precision but increase the recall."
   ]
  },
  {
   "cell_type": "code",
   "execution_count": 9,
   "metadata": {},
   "outputs": [
    {
     "name": "stderr",
     "output_type": "stream",
     "text": [
      "Encoder ranker: 100%|████████| 2/2 [00:02<00:00,  1.32s/it]\n"
     ]
    },
    {
     "data": {
      "text/plain": [
       "TfIdf retriever\n",
       "\tkey      : id\n",
       "\ton       : title, article\n",
       "\tdocuments: 105\n",
       "Encoder ranker\n",
       "\tkey       : id\n",
       "\ton        : title, article\n",
       "\tnormalize : True\n",
       "\tembeddings: 105"
      ]
     },
     "execution_count": 9,
     "metadata": {},
     "output_type": "execute_result"
    }
   ],
   "source": [
    "from sklearn.feature_extraction.text import TfidfVectorizer\n",
    "\n",
    "retriever = retrieve.TfIdf(\n",
    "    key=\"id\",\n",
    "    on=[\"title\", \"article\"],\n",
    "    documents=documents,\n",
    "    tfidf=TfidfVectorizer(ngram_range=(4, 10), analyzer=\"char_wb\", max_df=0.3),\n",
    ")\n",
    "\n",
    "search = retriever + ranker\n",
    "search.add(documents)"
   ]
  },
  {
   "cell_type": "code",
   "execution_count": 10,
   "metadata": {},
   "outputs": [
    {
     "data": {
      "text/plain": [
       "[{'id': 20, 'similarity': 0.7220986},\n",
       " {'id': 24, 'similarity': 0.5216039},\n",
       " {'id': 16, 'similarity': 0.48418275},\n",
       " {'id': 21, 'similarity': 0.47666836},\n",
       " {'id': 56, 'similarity': 0.47011483},\n",
       " {'id': 22, 'similarity': 0.45666158},\n",
       " {'id': 1, 'similarity': 0.44948608},\n",
       " {'id': 0, 'similarity': 0.44595104},\n",
       " {'id': 2, 'similarity': 0.4206621},\n",
       " {'id': 25, 'similarity': 0.4146704},\n",
       " {'id': 6, 'similarity': 0.41367412},\n",
       " {'id': 3, 'similarity': 0.4131328},\n",
       " {'id': 23, 'similarity': 0.41079015},\n",
       " {'id': 14, 'similarity': 0.37518078},\n",
       " {'id': 7, 'similarity': 0.37052304},\n",
       " {'id': 8, 'similarity': 0.36798736},\n",
       " {'id': 17, 'similarity': 0.35948235},\n",
       " {'id': 9, 'similarity': 0.34356856},\n",
       " {'id': 13, 'similarity': 0.33688956},\n",
       " {'id': 12, 'similarity': 0.31458178},\n",
       " {'id': 15, 'similarity': 0.3111611},\n",
       " {'id': 5, 'similarity': 0.30330563},\n",
       " {'id': 10, 'similarity': 0.2945645},\n",
       " {'id': 19, 'similarity': 0.2915255},\n",
       " {'id': 11, 'similarity': 0.27992725},\n",
       " {'id': 4, 'similarity': 0.276568},\n",
       " {'id': 43, 'similarity': 0.2750644},\n",
       " {'id': 96, 'similarity': 0.21408883},\n",
       " {'id': 18, 'similarity': 0.20204495},\n",
       " {'id': 79, 'similarity': 0.09676781}]"
      ]
     },
     "execution_count": 10,
     "metadata": {},
     "output_type": "execute_result"
    }
   ],
   "source": [
    "search(\"paris football\", k=30)"
   ]
  },
  {
   "cell_type": "markdown",
   "metadata": {},
   "source": [
    "By treating the characters we have built a retriever with a better recall."
   ]
  },
  {
   "cell_type": "code",
   "execution_count": 11,
   "metadata": {},
   "outputs": [
    {
     "data": {
      "text/plain": [
       "[{'id': 67, 'similarity': 0.32282117},\n",
       " {'id': 29, 'similarity': 0.30668122},\n",
       " {'id': 31, 'similarity': 0.2690589},\n",
       " {'id': 96, 'similarity': 0.027692636}]"
      ]
     },
     "execution_count": 11,
     "metadata": {},
     "output_type": "execute_result"
    }
   ],
   "source": [
    "search(\"aero\", k=30)  # Aerospace"
   ]
  },
  {
   "cell_type": "markdown",
   "metadata": {},
   "source": [
    "Let's map indexes to our documents."
   ]
  },
  {
   "cell_type": "code",
   "execution_count": 12,
   "metadata": {},
   "outputs": [],
   "source": [
    "search += documents"
   ]
  },
  {
   "cell_type": "code",
   "execution_count": 13,
   "metadata": {},
   "outputs": [
    {
     "data": {
      "text/plain": [
       "[{'id': 20,\n",
       "  'title': 'Paris',\n",
       "  'url': 'https://en.wikipedia.org/wiki/Paris',\n",
       "  'article': 'The football club Paris Saint-Germain and the rugby union club Stade Français are based in Paris.',\n",
       "  'similarity': 0.7220986},\n",
       " {'id': 16,\n",
       "  'title': 'Paris',\n",
       "  'url': 'https://en.wikipedia.org/wiki/Paris',\n",
       "  'article': 'Paris received 12.',\n",
       "  'similarity': 0.48418275},\n",
       " {'id': 21,\n",
       "  'title': 'Paris',\n",
       "  'url': 'https://en.wikipedia.org/wiki/Paris',\n",
       "  'article': 'The 80,000-seat Stade de France, built for the 1998 FIFA World Cup, is located just north of Paris in the neighbouring commune of Saint-Denis.',\n",
       "  'similarity': 0.47666836},\n",
       " {'id': 22,\n",
       "  'title': 'Paris',\n",
       "  'url': 'https://en.wikipedia.org/wiki/Paris',\n",
       "  'article': 'Paris hosts the annual French Open Grand Slam tennis tournament on the red clay of Roland Garros.',\n",
       "  'similarity': 0.45666158},\n",
       " {'id': 1,\n",
       "  'title': 'Paris',\n",
       "  'url': 'https://en.wikipedia.org/wiki/Paris',\n",
       "  'article': \"Since the 17th century, Paris has been one of Europe's major centres of finance, diplomacy, commerce, fashion, gastronomy, science, and arts.\",\n",
       "  'similarity': 0.44948608},\n",
       " {'id': 2,\n",
       "  'title': 'Paris',\n",
       "  'url': 'https://en.wikipedia.org/wiki/Paris',\n",
       "  'article': 'The City of Paris is the centre and seat of government of the region and province of Île-de-France, or Paris Region, which has an estimated population of 12,174,880, or about 18 percent of the population of France as of 2017.',\n",
       "  'similarity': 0.4206621},\n",
       " {'id': 3,\n",
       "  'title': 'Paris',\n",
       "  'url': 'https://en.wikipedia.org/wiki/Paris',\n",
       "  'article': 'The Paris Region had a GDP of €709 billion ($808 billion) in 2017.',\n",
       "  'similarity': 0.4131328},\n",
       " {'id': 7,\n",
       "  'title': 'Paris',\n",
       "  'url': 'https://en.wikipedia.org/wiki/Paris',\n",
       "  'article': \"Opened in 1900, the city's subway system, the Paris Métro, serves 5.\",\n",
       "  'similarity': 0.37052304},\n",
       " {'id': 5,\n",
       "  'title': 'Paris',\n",
       "  'url': 'https://en.wikipedia.org/wiki/Paris',\n",
       "  'article': 'Another source ranked Paris as most expensive, on par with Singapore and Hong Kong, in 2018.',\n",
       "  'similarity': 0.30330563},\n",
       " {'id': 18,\n",
       "  'title': 'Paris',\n",
       "  'url': 'https://en.wikipedia.org/wiki/Paris',\n",
       "  'article': 'The number of foreign visitors declined by 80.',\n",
       "  'similarity': 0.20204495}]"
      ]
     },
     "execution_count": 13,
     "metadata": {},
     "output_type": "execute_result"
    }
   ],
   "source": [
    "search(\"paris football\", k=10)"
   ]
  },
  {
   "cell_type": "code",
   "execution_count": 14,
   "metadata": {},
   "outputs": [
    {
     "data": {
      "text/plain": [
       "[{'id': 67,\n",
       "  'title': 'Bordeaux',\n",
       "  'url': 'https://en.wikipedia.org/wiki/Bordeaux',\n",
       "  'article': 'It is a central and strategic hub for the aeronautics, military and space sector, home to international companies such as Dassault Aviation, Ariane Group, Safran and Thalès.',\n",
       "  'similarity': 0.32282117},\n",
       " {'id': 29,\n",
       "  'title': 'Toulouse',\n",
       "  'url': 'https://en.wikipedia.org/wiki/Toulouse',\n",
       "  'article': 'Toulouse is the centre of the European aerospace industry, with the headquarters of Airbus (formerly EADS), the SPOT satellite system, ATR and the Aerospace Valley.',\n",
       "  'similarity': 0.30668122},\n",
       " {'id': 31,\n",
       "  'title': 'Toulouse',\n",
       "  'url': 'https://en.wikipedia.org/wiki/Toulouse',\n",
       "  'article': 'Thales Alenia Space, ATR, SAFRAN, Liebherr-Aerospace and Airbus Defence and Space also have a significant presence in Toulouse.',\n",
       "  'similarity': 0.2690589},\n",
       " {'id': 96,\n",
       "  'title': 'Montreal',\n",
       "  'url': 'https://en.wikipedia.org/wiki/Montreal',\n",
       "  'article': 'It remains an important centre of commerce, aerospace, transport, finance, pharmaceuticals, technology, design, education, art, culture, tourism, food, fashion, video game development, film, and world affairs.',\n",
       "  'similarity': 0.027692636}]"
      ]
     },
     "execution_count": 14,
     "metadata": {},
     "output_type": "execute_result"
    }
   ],
   "source": [
    "search(\"aero\", k=30)  # Aerospace"
   ]
  }
 ],
 "metadata": {
  "interpreter": {
   "hash": "7b170744ab9cf7446ed3e27cb2734f2273f9ffda6b52a7d603d13471f7231bb1"
  },
  "kernelspec": {
   "display_name": "Python 3 (ipykernel)",
   "language": "python",
   "name": "python3"
  },
  "language_info": {
   "codemirror_mode": {
    "name": "ipython",
    "version": 3
   },
   "file_extension": ".py",
   "mimetype": "text/x-python",
   "name": "python",
   "nbconvert_exporter": "python",
   "pygments_lexer": "ipython3",
   "version": "3.10.11"
  }
 },
 "nbformat": 4,
 "nbformat_minor": 2
}
